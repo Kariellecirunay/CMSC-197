{
 "cells": [
  {
   "cell_type": "markdown",
   "id": "217d7cb7-3b0e-438e-b227-50c8388865fd",
   "metadata": {},
   "source": [
    "# CMSC 197: MACHINE LEARNING\n",
    "## Implementing Linear Regression with Gradient Descent as Optimization Function"
   ]
  },
  {
   "cell_type": "markdown",
   "id": "bd9650d6-4c04-418e-a015-f39f0b385527",
   "metadata": {},
   "source": [
    "Name: Karielle Faith Cirunay"
   ]
  },
  {
   "cell_type": "code",
   "execution_count": 76,
   "id": "27236371-bef5-42e3-a63e-33cc99f48598",
   "metadata": {},
   "outputs": [],
   "source": [
    "import pandas as pd\n",
    "import numpy as np\n",
    "from sklearn.preprocessing import scale\n",
    "from sklearn.model_selection import train_test_split\n",
    "from sklearn.metrics import r2_score\n",
    "from sklearn.linear_model import LinearRegression\n",
    "import matplotlib.pyplot as plt"
   ]
  },
  {
   "cell_type": "markdown",
   "id": "83adfe5e-d44c-4055-b8b6-605668778230",
   "metadata": {},
   "source": [
    "### Loading data and dropping unnecessary columns"
   ]
  },
  {
   "cell_type": "code",
   "execution_count": 77,
   "id": "c3ad5525-1801-45b7-b70a-6226b4fefb50",
   "metadata": {},
   "outputs": [
    {
     "data": {
      "text/html": [
       "<div>\n",
       "<style scoped>\n",
       "    .dataframe tbody tr th:only-of-type {\n",
       "        vertical-align: middle;\n",
       "    }\n",
       "\n",
       "    .dataframe tbody tr th {\n",
       "        vertical-align: top;\n",
       "    }\n",
       "\n",
       "    .dataframe thead th {\n",
       "        text-align: right;\n",
       "    }\n",
       "</style>\n",
       "<table border=\"1\" class=\"dataframe\">\n",
       "  <thead>\n",
       "    <tr style=\"text-align: right;\">\n",
       "      <th></th>\n",
       "      <th>TV</th>\n",
       "      <th>Radio</th>\n",
       "      <th>Newspaper</th>\n",
       "      <th>Sales</th>\n",
       "    </tr>\n",
       "  </thead>\n",
       "  <tbody>\n",
       "    <tr>\n",
       "      <th>0</th>\n",
       "      <td>230.1</td>\n",
       "      <td>37.8</td>\n",
       "      <td>69.2</td>\n",
       "      <td>22.1</td>\n",
       "    </tr>\n",
       "    <tr>\n",
       "      <th>1</th>\n",
       "      <td>44.5</td>\n",
       "      <td>39.3</td>\n",
       "      <td>45.1</td>\n",
       "      <td>10.4</td>\n",
       "    </tr>\n",
       "    <tr>\n",
       "      <th>2</th>\n",
       "      <td>17.2</td>\n",
       "      <td>45.9</td>\n",
       "      <td>69.3</td>\n",
       "      <td>9.3</td>\n",
       "    </tr>\n",
       "    <tr>\n",
       "      <th>3</th>\n",
       "      <td>151.5</td>\n",
       "      <td>41.3</td>\n",
       "      <td>58.5</td>\n",
       "      <td>18.5</td>\n",
       "    </tr>\n",
       "    <tr>\n",
       "      <th>4</th>\n",
       "      <td>180.8</td>\n",
       "      <td>10.8</td>\n",
       "      <td>58.4</td>\n",
       "      <td>12.9</td>\n",
       "    </tr>\n",
       "    <tr>\n",
       "      <th>...</th>\n",
       "      <td>...</td>\n",
       "      <td>...</td>\n",
       "      <td>...</td>\n",
       "      <td>...</td>\n",
       "    </tr>\n",
       "    <tr>\n",
       "      <th>195</th>\n",
       "      <td>38.2</td>\n",
       "      <td>3.7</td>\n",
       "      <td>13.8</td>\n",
       "      <td>7.6</td>\n",
       "    </tr>\n",
       "    <tr>\n",
       "      <th>196</th>\n",
       "      <td>94.2</td>\n",
       "      <td>4.9</td>\n",
       "      <td>8.1</td>\n",
       "      <td>9.7</td>\n",
       "    </tr>\n",
       "    <tr>\n",
       "      <th>197</th>\n",
       "      <td>177.0</td>\n",
       "      <td>9.3</td>\n",
       "      <td>6.4</td>\n",
       "      <td>12.8</td>\n",
       "    </tr>\n",
       "    <tr>\n",
       "      <th>198</th>\n",
       "      <td>283.6</td>\n",
       "      <td>42.0</td>\n",
       "      <td>66.2</td>\n",
       "      <td>25.5</td>\n",
       "    </tr>\n",
       "    <tr>\n",
       "      <th>199</th>\n",
       "      <td>232.1</td>\n",
       "      <td>8.6</td>\n",
       "      <td>8.7</td>\n",
       "      <td>13.4</td>\n",
       "    </tr>\n",
       "  </tbody>\n",
       "</table>\n",
       "<p>200 rows × 4 columns</p>\n",
       "</div>"
      ],
      "text/plain": [
       "        TV  Radio  Newspaper  Sales\n",
       "0    230.1   37.8       69.2   22.1\n",
       "1     44.5   39.3       45.1   10.4\n",
       "2     17.2   45.9       69.3    9.3\n",
       "3    151.5   41.3       58.5   18.5\n",
       "4    180.8   10.8       58.4   12.9\n",
       "..     ...    ...        ...    ...\n",
       "195   38.2    3.7       13.8    7.6\n",
       "196   94.2    4.9        8.1    9.7\n",
       "197  177.0    9.3        6.4   12.8\n",
       "198  283.6   42.0       66.2   25.5\n",
       "199  232.1    8.6        8.7   13.4\n",
       "\n",
       "[200 rows x 4 columns]"
      ]
     },
     "execution_count": 77,
     "metadata": {},
     "output_type": "execute_result"
    }
   ],
   "source": [
    "data = pd.read_csv(\"data/Advertising.csv\")\n",
    "data = data.drop(['Unnamed: 0'], axis=1)\n",
    "data"
   ]
  },
  {
   "cell_type": "code",
   "execution_count": 78,
   "id": "1f6b4b5a-8cd2-486c-9fce-fb8f5fb7dd3f",
   "metadata": {},
   "outputs": [],
   "source": [
    "dataX = data.drop(['Sales'], axis=1)  \n",
    "dataY = data.Sales.values"
   ]
  },
  {
   "cell_type": "markdown",
   "id": "f0e1e58f-7251-425a-9dc5-4bce749de5a2",
   "metadata": {},
   "source": [
    "## DATA STANDARDIZATION"
   ]
  },
  {
   "cell_type": "code",
   "execution_count": 79,
   "id": "c3d9e5db-a477-4f13-a2d7-a706a8de3b27",
   "metadata": {},
   "outputs": [
    {
     "data": {
      "text/html": [
       "<div>\n",
       "<style scoped>\n",
       "    .dataframe tbody tr th:only-of-type {\n",
       "        vertical-align: middle;\n",
       "    }\n",
       "\n",
       "    .dataframe tbody tr th {\n",
       "        vertical-align: top;\n",
       "    }\n",
       "\n",
       "    .dataframe thead th {\n",
       "        text-align: right;\n",
       "    }\n",
       "</style>\n",
       "<table border=\"1\" class=\"dataframe\">\n",
       "  <thead>\n",
       "    <tr style=\"text-align: right;\">\n",
       "      <th></th>\n",
       "      <th>Bias</th>\n",
       "      <th>TV</th>\n",
       "      <th>Radio</th>\n",
       "      <th>Newspaper</th>\n",
       "    </tr>\n",
       "  </thead>\n",
       "  <tbody>\n",
       "    <tr>\n",
       "      <th>0</th>\n",
       "      <td>1</td>\n",
       "      <td>0.969852</td>\n",
       "      <td>0.981522</td>\n",
       "      <td>1.778945</td>\n",
       "    </tr>\n",
       "    <tr>\n",
       "      <th>1</th>\n",
       "      <td>1</td>\n",
       "      <td>-1.197376</td>\n",
       "      <td>1.082808</td>\n",
       "      <td>0.669579</td>\n",
       "    </tr>\n",
       "    <tr>\n",
       "      <th>2</th>\n",
       "      <td>1</td>\n",
       "      <td>-1.516155</td>\n",
       "      <td>1.528463</td>\n",
       "      <td>1.783549</td>\n",
       "    </tr>\n",
       "    <tr>\n",
       "      <th>3</th>\n",
       "      <td>1</td>\n",
       "      <td>0.052050</td>\n",
       "      <td>1.217855</td>\n",
       "      <td>1.286405</td>\n",
       "    </tr>\n",
       "    <tr>\n",
       "      <th>4</th>\n",
       "      <td>1</td>\n",
       "      <td>0.394182</td>\n",
       "      <td>-0.841614</td>\n",
       "      <td>1.281802</td>\n",
       "    </tr>\n",
       "    <tr>\n",
       "      <th>...</th>\n",
       "      <td>...</td>\n",
       "      <td>...</td>\n",
       "      <td>...</td>\n",
       "      <td>...</td>\n",
       "    </tr>\n",
       "    <tr>\n",
       "      <th>195</th>\n",
       "      <td>1</td>\n",
       "      <td>-1.270941</td>\n",
       "      <td>-1.321031</td>\n",
       "      <td>-0.771217</td>\n",
       "    </tr>\n",
       "    <tr>\n",
       "      <th>196</th>\n",
       "      <td>1</td>\n",
       "      <td>-0.617035</td>\n",
       "      <td>-1.240003</td>\n",
       "      <td>-1.033598</td>\n",
       "    </tr>\n",
       "    <tr>\n",
       "      <th>197</th>\n",
       "      <td>1</td>\n",
       "      <td>0.349810</td>\n",
       "      <td>-0.942899</td>\n",
       "      <td>-1.111852</td>\n",
       "    </tr>\n",
       "    <tr>\n",
       "      <th>198</th>\n",
       "      <td>1</td>\n",
       "      <td>1.594565</td>\n",
       "      <td>1.265121</td>\n",
       "      <td>1.640850</td>\n",
       "    </tr>\n",
       "    <tr>\n",
       "      <th>199</th>\n",
       "      <td>1</td>\n",
       "      <td>0.993206</td>\n",
       "      <td>-0.990165</td>\n",
       "      <td>-1.005979</td>\n",
       "    </tr>\n",
       "  </tbody>\n",
       "</table>\n",
       "<p>200 rows × 4 columns</p>\n",
       "</div>"
      ],
      "text/plain": [
       "     Bias        TV     Radio  Newspaper\n",
       "0       1  0.969852  0.981522   1.778945\n",
       "1       1 -1.197376  1.082808   0.669579\n",
       "2       1 -1.516155  1.528463   1.783549\n",
       "3       1  0.052050  1.217855   1.286405\n",
       "4       1  0.394182 -0.841614   1.281802\n",
       "..    ...       ...       ...        ...\n",
       "195     1 -1.270941 -1.321031  -0.771217\n",
       "196     1 -0.617035 -1.240003  -1.033598\n",
       "197     1  0.349810 -0.942899  -1.111852\n",
       "198     1  1.594565  1.265121   1.640850\n",
       "199     1  0.993206 -0.990165  -1.005979\n",
       "\n",
       "[200 rows x 4 columns]"
      ]
     },
     "execution_count": 79,
     "metadata": {},
     "output_type": "execute_result"
    }
   ],
   "source": [
    "# Standardize using sklearn's scale function\n",
    "X = pd.DataFrame(scale(dataX), columns=dataX.columns)\n",
    "\n",
    "#Add Bias column, new column which contains 1 for each data point\n",
    "X.insert(0, 'Bias', [1]*len(X))\n",
    "X"
   ]
  },
  {
   "cell_type": "markdown",
   "id": "ef0fbbb4-f8f8-48f4-9b28-4fdb7d70c902",
   "metadata": {},
   "source": [
    "## Splitting the Dataset"
   ]
  },
  {
   "cell_type": "code",
   "execution_count": 80,
   "id": "f336481c-307d-4842-b739-4ff471aa9a7e",
   "metadata": {},
   "outputs": [
    {
     "name": "stdout",
     "output_type": "stream",
     "text": [
      "Training Features: (170, 4)\n",
      "Testing Features: (30, 4)\n",
      "Training Target: (170,)\n",
      "Testing Target: (30,)\n"
     ]
    }
   ],
   "source": [
    "# Split data into training (85%) and testing (15%) sets\n",
    "X_train, X_test, y_train, y_test = train_test_split(X, dataY, test_size=0.15, random_state=42)\n",
    "\n",
    "print(\"Training Features:\", X_train.shape)\n",
    "print(\"Testing Features:\", X_test.shape)\n",
    "print(\"Training Target:\", y_train.shape)\n",
    "print(\"Testing Target:\", y_test.shape)"
   ]
  },
  {
   "cell_type": "markdown",
   "id": "8c341a03-e4f5-4fe8-82ac-9a86748ef57f",
   "metadata": {},
   "source": [
    "# LINEAR REGRESSION using gradient descent"
   ]
  },
  {
   "cell_type": "markdown",
   "id": "de0088bb-d6bb-483a-bebb-ad0ca6073149",
   "metadata": {},
   "source": [
    "### Initialize weights"
   ]
  },
  {
   "cell_type": "code",
   "execution_count": 81,
   "id": "9c78fb5e-c93b-4fec-b736-7770f20a7263",
   "metadata": {},
   "outputs": [
    {
     "data": {
      "text/plain": [
       "array([0.37454012, 0.95071431, 0.73199394, 0.59865848])"
      ]
     },
     "execution_count": 81,
     "metadata": {},
     "output_type": "execute_result"
    }
   ],
   "source": [
    "def initialize_weights(n_features, seed=None, use_random=True):\n",
    "# def initialize_weights(n_features):\n",
    "    if seed is not None:\n",
    "        np.random.seed(seed)  \n",
    "    \n",
    "    if use_random:\n",
    "        # Initialize weights \n",
    "        init_w = np.random.uniform(0, 1, n_features)\n",
    "    else:\n",
    "        # Initialize weights to zeros\n",
    "        init_w = np.array([0.0, 0.0, 0.0, 0.0])\n",
    "    \n",
    "    return init_w\n",
    "    \n",
    "n_features = X.shape[1]  \n",
    "weights = initialize_weights(n_features, seed=42, use_random=True)\n",
    "weights"
   ]
  },
  {
   "cell_type": "markdown",
   "id": "91fafdcd-ca54-44a7-8c23-88ba94ff8e9b",
   "metadata": {},
   "source": [
    "### Predict"
   ]
  },
  {
   "cell_type": "code",
   "execution_count": 82,
   "id": "c3e988bd-9c9f-46f6-85f2-f74257ed7533",
   "metadata": {},
   "outputs": [],
   "source": [
    "def predict(X, weights):\n",
    "    predictions = np.dot(X, weights)\n",
    "    return predictions"
   ]
  },
  {
   "cell_type": "markdown",
   "id": "5316e167-5629-431e-8bbe-a4416183d097",
   "metadata": {},
   "source": [
    "### compute cost"
   ]
  },
  {
   "cell_type": "code",
   "execution_count": 83,
   "id": "37bb5285-aa8e-48da-b0fc-29a750a7d896",
   "metadata": {},
   "outputs": [],
   "source": [
    "def compute_cost(dataY,predictions):\n",
    "    m = len(dataY)    \n",
    "    cost = (1 / (2 * m)) * np.sum((predictions - dataY) ** 2)\n",
    "    \n",
    "    return cost"
   ]
  },
  {
   "cell_type": "markdown",
   "id": "22a7e65d-38e4-450e-b1e6-4363d38c68fe",
   "metadata": {},
   "source": [
    "### compute gradient"
   ]
  },
  {
   "cell_type": "code",
   "execution_count": 84,
   "id": "6c06d946-99c8-45d1-a98d-bd045ddfd5a6",
   "metadata": {},
   "outputs": [],
   "source": [
    "def compute_gradient(X, dataY, weights):\n",
    "    m = len(dataY) \n",
    "    \n",
    "    predictions = predict (X, weights)  \n",
    "    errors = predictions - dataY  \n",
    "    \n",
    "    # Compute gradient for each weight\n",
    "    gradients = (1 / m) * np.dot(X.T, errors)\n",
    "    \n",
    "    return gradients"
   ]
  },
  {
   "cell_type": "markdown",
   "id": "5c5a8b36-c682-4ca1-b797-631cf62e978c",
   "metadata": {},
   "source": [
    "### Update weights"
   ]
  },
  {
   "cell_type": "code",
   "execution_count": 85,
   "id": "c2a3796b-6351-4741-aef8-bb44b90ef1c2",
   "metadata": {},
   "outputs": [],
   "source": [
    "def update_weights(weights, gradients, learning_rate):\n",
    "    updated_weights = weights - learning_rate * gradients\n",
    "    return updated_weights"
   ]
  },
  {
   "cell_type": "markdown",
   "id": "54c4d574-62be-4a99-916e-5cb95256e6e3",
   "metadata": {},
   "source": [
    "### Gradient descent"
   ]
  },
  {
   "cell_type": "code",
   "execution_count": 86,
   "id": "9d032773-4cb6-4e19-8f28-5587f5340cdc",
   "metadata": {},
   "outputs": [],
   "source": [
    "def grad_descent(X, dataY, learning_rate, iterations):\n",
    "    costs = []\n",
    "    weights = initialize_weights (X.shape[1])\n",
    "\n",
    "    \n",
    "    for i in range(iterations):\n",
    "        predictions = predict (X, weights)\n",
    "        # Compute the cost function\n",
    "        cost = compute_cost(dataY,predictions)\n",
    "        costs.append(cost)\n",
    "        \n",
    "        # update the weights\n",
    "        gradients = compute_gradient(X, dataY, weights)\n",
    "        weights = update_weights(weights, gradients, learning_rate)\n",
    "    \n",
    "    return weights, costs"
   ]
  },
  {
   "cell_type": "markdown",
   "id": "e08afbcb-985b-4f96-86fa-fb6156a97153",
   "metadata": {},
   "source": [
    "### obtaining the optimal weights"
   ]
  },
  {
   "cell_type": "code",
   "execution_count": 87,
   "id": "6c0dd53b-535d-4ecc-9898-1765853cb8a7",
   "metadata": {},
   "outputs": [
    {
     "name": "stdout",
     "output_type": "stream",
     "text": [
      "Final Weights:\n",
      " [14.02190137  3.91906831  2.7892951  -0.01972041]\n"
     ]
    }
   ],
   "source": [
    "# Define learning rate and number of iterations\n",
    "learning_rate = 0.01\n",
    "iterations = 1000\n",
    "\n",
    "# Run the gradient descent algorithm to get final weights and cost values\n",
    "final_weights, cost_values = grad_descent(X, dataY, learning_rate, iterations)\n",
    "\n",
    "print(\"Final Weights:\\n\", final_weights)\n"
   ]
  },
  {
   "cell_type": "markdown",
   "id": "aa37892b-776a-428b-bec4-2e696c41c24b",
   "metadata": {},
   "source": [
    "### Plot cost"
   ]
  },
  {
   "cell_type": "code",
   "execution_count": 89,
   "id": "a59dd447-589b-4bf9-98ce-be69ff091880",
   "metadata": {},
   "outputs": [
    {
     "data": {
      "image/png": "[encoded data removed]",
      "text/plain": [
       "<Figure size 640x480 with 1 Axes>"
      ]
     },
     "metadata": {},
     "output_type": "display_data"
    }
   ],
   "source": [
    "# Plot the cost values\n",
    "def plot_costs(costs):\n",
    "    plt.plot(range(iterations), costs, label='Cost function')\n",
    "    plt.xlabel('Iterations')\n",
    "    plt.ylabel('Cost')\n",
    "    plt.title('Cost Function over Iterations')\n",
    "    plt.legend()\n",
    "    plt.show()\n",
    "\n",
    "plot_costs(cost_values)"
   ]
  },
  {
   "cell_type": "markdown",
   "id": "11c38421-7bf1-4ccc-8851-d49005ca90c2",
   "metadata": {},
   "source": [
    "### Predict train cost"
   ]
  },
  {
   "cell_type": "code",
   "execution_count": 90,
   "id": "3146921b-eb43-445b-aff1-94af156bfb47",
   "metadata": {},
   "outputs": [
    {
     "name": "stdout",
     "output_type": "stream",
     "text": [
      "Training Cost: 1.3943073241577681\n"
     ]
    },
    {
     "data": {
      "text/html": [
       "<div>\n",
       "<style scoped>\n",
       "    .dataframe tbody tr th:only-of-type {\n",
       "        vertical-align: middle;\n",
       "    }\n",
       "\n",
       "    .dataframe tbody tr th {\n",
       "        vertical-align: top;\n",
       "    }\n",
       "\n",
       "    .dataframe thead th {\n",
       "        text-align: right;\n",
       "    }\n",
       "</style>\n",
       "<table border=\"1\" class=\"dataframe\">\n",
       "  <thead>\n",
       "    <tr style=\"text-align: right;\">\n",
       "      <th></th>\n",
       "      <th>Actual</th>\n",
       "      <th>Predicted</th>\n",
       "    </tr>\n",
       "  </thead>\n",
       "  <tbody>\n",
       "    <tr>\n",
       "      <th>0</th>\n",
       "      <td>10.6</td>\n",
       "      <td>12.552784</td>\n",
       "    </tr>\n",
       "    <tr>\n",
       "      <th>1</th>\n",
       "      <td>11.3</td>\n",
       "      <td>9.950179</td>\n",
       "    </tr>\n",
       "    <tr>\n",
       "      <th>2</th>\n",
       "      <td>23.7</td>\n",
       "      <td>21.290835</td>\n",
       "    </tr>\n",
       "    <tr>\n",
       "      <th>3</th>\n",
       "      <td>8.7</td>\n",
       "      <td>11.861820</td>\n",
       "    </tr>\n",
       "    <tr>\n",
       "      <th>4</th>\n",
       "      <td>16.1</td>\n",
       "      <td>18.368904</td>\n",
       "    </tr>\n",
       "    <tr>\n",
       "      <th>...</th>\n",
       "      <td>...</td>\n",
       "      <td>...</td>\n",
       "    </tr>\n",
       "    <tr>\n",
       "      <th>165</th>\n",
       "      <td>7.2</td>\n",
       "      <td>6.127869</td>\n",
       "    </tr>\n",
       "    <tr>\n",
       "      <th>166</th>\n",
       "      <td>19.0</td>\n",
       "      <td>18.433847</td>\n",
       "    </tr>\n",
       "    <tr>\n",
       "      <th>167</th>\n",
       "      <td>19.4</td>\n",
       "      <td>19.157422</td>\n",
       "    </tr>\n",
       "    <tr>\n",
       "      <th>168</th>\n",
       "      <td>12.6</td>\n",
       "      <td>12.384714</td>\n",
       "    </tr>\n",
       "    <tr>\n",
       "      <th>169</th>\n",
       "      <td>14.8</td>\n",
       "      <td>17.644480</td>\n",
       "    </tr>\n",
       "  </tbody>\n",
       "</table>\n",
       "<p>170 rows × 2 columns</p>\n",
       "</div>"
      ],
      "text/plain": [
       "     Actual  Predicted\n",
       "0      10.6  12.552784\n",
       "1      11.3   9.950179\n",
       "2      23.7  21.290835\n",
       "3       8.7  11.861820\n",
       "4      16.1  18.368904\n",
       "..      ...        ...\n",
       "165     7.2   6.127869\n",
       "166    19.0  18.433847\n",
       "167    19.4  19.157422\n",
       "168    12.6  12.384714\n",
       "169    14.8  17.644480\n",
       "\n",
       "[170 rows x 2 columns]"
      ]
     },
     "execution_count": 90,
     "metadata": {},
     "output_type": "execute_result"
    }
   ],
   "source": [
    "# Predict y for train set and calculate the cost\n",
    "train_predictions = predict(X_train, final_weights)\n",
    "train_cost = compute_cost(y_train, train_predictions)\n",
    "print(\"Training Cost:\", train_cost)\n",
    "\n",
    "compare = pd.DataFrame({'Actual':y_train,'Predicted':train_predictions})\n",
    "compare"
   ]
  },
  {
   "cell_type": "markdown",
   "id": "5e9ac4d7-0975-4984-bfd8-ea2232a18caf",
   "metadata": {},
   "source": [
    "### Predict test cost"
   ]
  },
  {
   "cell_type": "code",
   "execution_count": 91,
   "id": "f696dcca-fa38-498d-9d86-c8bfe5d8c780",
   "metadata": {},
   "outputs": [
    {
     "name": "stdout",
     "output_type": "stream",
     "text": [
      "Test Cost: 1.3793811048191527\n"
     ]
    },
    {
     "data": {
      "text/html": [
       "<div>\n",
       "<style scoped>\n",
       "    .dataframe tbody tr th:only-of-type {\n",
       "        vertical-align: middle;\n",
       "    }\n",
       "\n",
       "    .dataframe tbody tr th {\n",
       "        vertical-align: top;\n",
       "    }\n",
       "\n",
       "    .dataframe thead th {\n",
       "        text-align: right;\n",
       "    }\n",
       "</style>\n",
       "<table border=\"1\" class=\"dataframe\">\n",
       "  <thead>\n",
       "    <tr style=\"text-align: right;\">\n",
       "      <th></th>\n",
       "      <th>Actual</th>\n",
       "      <th>Predicted</th>\n",
       "    </tr>\n",
       "  </thead>\n",
       "  <tbody>\n",
       "    <tr>\n",
       "      <th>0</th>\n",
       "      <td>16.9</td>\n",
       "      <td>16.315628</td>\n",
       "    </tr>\n",
       "    <tr>\n",
       "      <th>1</th>\n",
       "      <td>22.4</td>\n",
       "      <td>20.816928</td>\n",
       "    </tr>\n",
       "    <tr>\n",
       "      <th>2</th>\n",
       "      <td>21.4</td>\n",
       "      <td>21.633719</td>\n",
       "    </tr>\n",
       "    <tr>\n",
       "      <th>3</th>\n",
       "      <td>7.3</td>\n",
       "      <td>10.383245</td>\n",
       "    </tr>\n",
       "    <tr>\n",
       "      <th>4</th>\n",
       "      <td>24.7</td>\n",
       "      <td>22.246376</td>\n",
       "    </tr>\n",
       "    <tr>\n",
       "      <th>5</th>\n",
       "      <td>12.6</td>\n",
       "      <td>12.919926</td>\n",
       "    </tr>\n",
       "    <tr>\n",
       "      <th>6</th>\n",
       "      <td>22.3</td>\n",
       "      <td>21.103871</td>\n",
       "    </tr>\n",
       "    <tr>\n",
       "      <th>7</th>\n",
       "      <td>8.4</td>\n",
       "      <td>7.395194</td>\n",
       "    </tr>\n",
       "    <tr>\n",
       "      <th>8</th>\n",
       "      <td>11.5</td>\n",
       "      <td>13.745044</td>\n",
       "    </tr>\n",
       "    <tr>\n",
       "      <th>9</th>\n",
       "      <td>14.9</td>\n",
       "      <td>15.161129</td>\n",
       "    </tr>\n",
       "    <tr>\n",
       "      <th>10</th>\n",
       "      <td>9.5</td>\n",
       "      <td>9.011755</td>\n",
       "    </tr>\n",
       "    <tr>\n",
       "      <th>11</th>\n",
       "      <td>8.7</td>\n",
       "      <td>6.557440</td>\n",
       "    </tr>\n",
       "    <tr>\n",
       "      <th>12</th>\n",
       "      <td>11.9</td>\n",
       "      <td>14.233683</td>\n",
       "    </tr>\n",
       "    <tr>\n",
       "      <th>13</th>\n",
       "      <td>5.3</td>\n",
       "      <td>8.809037</td>\n",
       "    </tr>\n",
       "    <tr>\n",
       "      <th>14</th>\n",
       "      <td>10.3</td>\n",
       "      <td>9.694233</td>\n",
       "    </tr>\n",
       "    <tr>\n",
       "      <th>15</th>\n",
       "      <td>11.7</td>\n",
       "      <td>12.164890</td>\n",
       "    </tr>\n",
       "    <tr>\n",
       "      <th>16</th>\n",
       "      <td>5.5</td>\n",
       "      <td>8.527920</td>\n",
       "    </tr>\n",
       "    <tr>\n",
       "      <th>17</th>\n",
       "      <td>16.6</td>\n",
       "      <td>16.357164</td>\n",
       "    </tr>\n",
       "    <tr>\n",
       "      <th>18</th>\n",
       "      <td>11.3</td>\n",
       "      <td>10.178771</td>\n",
       "    </tr>\n",
       "    <tr>\n",
       "      <th>19</th>\n",
       "      <td>18.9</td>\n",
       "      <td>18.972457</td>\n",
       "    </tr>\n",
       "    <tr>\n",
       "      <th>20</th>\n",
       "      <td>19.7</td>\n",
       "      <td>19.457609</td>\n",
       "    </tr>\n",
       "    <tr>\n",
       "      <th>21</th>\n",
       "      <td>12.5</td>\n",
       "      <td>12.831563</td>\n",
       "    </tr>\n",
       "    <tr>\n",
       "      <th>22</th>\n",
       "      <td>10.9</td>\n",
       "      <td>12.257393</td>\n",
       "    </tr>\n",
       "    <tr>\n",
       "      <th>23</th>\n",
       "      <td>22.2</td>\n",
       "      <td>21.229692</td>\n",
       "    </tr>\n",
       "    <tr>\n",
       "      <th>24</th>\n",
       "      <td>9.3</td>\n",
       "      <td>7.847378</td>\n",
       "    </tr>\n",
       "    <tr>\n",
       "      <th>25</th>\n",
       "      <td>8.1</td>\n",
       "      <td>5.744546</td>\n",
       "    </tr>\n",
       "    <tr>\n",
       "      <th>26</th>\n",
       "      <td>21.7</td>\n",
       "      <td>20.777355</td>\n",
       "    </tr>\n",
       "    <tr>\n",
       "      <th>27</th>\n",
       "      <td>13.4</td>\n",
       "      <td>12.035423</td>\n",
       "    </tr>\n",
       "    <tr>\n",
       "      <th>28</th>\n",
       "      <td>10.6</td>\n",
       "      <td>9.128419</td>\n",
       "    </tr>\n",
       "    <tr>\n",
       "      <th>29</th>\n",
       "      <td>5.7</td>\n",
       "      <td>8.444425</td>\n",
       "    </tr>\n",
       "  </tbody>\n",
       "</table>\n",
       "</div>"
      ],
      "text/plain": [
       "    Actual  Predicted\n",
       "0     16.9  16.315628\n",
       "1     22.4  20.816928\n",
       "2     21.4  21.633719\n",
       "3      7.3  10.383245\n",
       "4     24.7  22.246376\n",
       "5     12.6  12.919926\n",
       "6     22.3  21.103871\n",
       "7      8.4   7.395194\n",
       "8     11.5  13.745044\n",
       "9     14.9  15.161129\n",
       "10     9.5   9.011755\n",
       "11     8.7   6.557440\n",
       "12    11.9  14.233683\n",
       "13     5.3   8.809037\n",
       "14    10.3   9.694233\n",
       "15    11.7  12.164890\n",
       "16     5.5   8.527920\n",
       "17    16.6  16.357164\n",
       "18    11.3  10.178771\n",
       "19    18.9  18.972457\n",
       "20    19.7  19.457609\n",
       "21    12.5  12.831563\n",
       "22    10.9  12.257393\n",
       "23    22.2  21.229692\n",
       "24     9.3   7.847378\n",
       "25     8.1   5.744546\n",
       "26    21.7  20.777355\n",
       "27    13.4  12.035423\n",
       "28    10.6   9.128419\n",
       "29     5.7   8.444425"
      ]
     },
     "execution_count": 91,
     "metadata": {},
     "output_type": "execute_result"
    }
   ],
   "source": [
    "# Predict y for test set and calculate the cost\n",
    "test_predictions = predict(X_test, final_weights)\n",
    "test_cost = compute_cost(y_test, test_predictions)\n",
    "print(\"Test Cost:\", test_cost)\n",
    "\n",
    "compare = pd.DataFrame({'Actual':y_test,'Predicted':test_predictions})\n",
    "compare"
   ]
  },
  {
   "cell_type": "markdown",
   "id": "bd154b56-aa52-4328-9c06-a538ad4a8f64",
   "metadata": {},
   "source": [
    "### R2 (train and test set)"
   ]
  },
  {
   "cell_type": "code",
   "execution_count": 92,
   "id": "65ae0009-56b4-4d3b-8824-0320e85f9a90",
   "metadata": {},
   "outputs": [
    {
     "name": "stdout",
     "output_type": "stream",
     "text": [
      "R2 Score for Training Set: 0.8933867187946081\n",
      "R2 Score for Testing Set: 0.9139993824617716\n"
     ]
    }
   ],
   "source": [
    "# Calculate and print R² score for Train and Test sets\n",
    "r2_train = r2_score(y_train, train_predictions)\n",
    "r2_test = r2_score(y_test, test_predictions)\n",
    "\n",
    "print(f'R2 Score for Training Set: {r2_train}')\n",
    "print(f'R2 Score for Testing Set: {r2_test}')"
   ]
  },
  {
   "cell_type": "markdown",
   "id": "8ec46045-41d9-41c6-99f8-5e1055779886",
   "metadata": {},
   "source": [
    "## Computing MSE"
   ]
  },
  {
   "cell_type": "code",
   "execution_count": 93,
   "id": "e661a1f9-c462-49f2-9d5b-d3bdcdd04bd9",
   "metadata": {},
   "outputs": [
    {
     "name": "stdout",
     "output_type": "stream",
     "text": [
      "Mean Squared Error on the Training Set: 2.7886146483155363\n",
      "Mean Squared Error on the Test Set: 2.7587622096383053\n"
     ]
    }
   ],
   "source": [
    "def compute_mse(y_true, y_pred):\n",
    "    mse = np.mean((y_true - y_pred) ** 2)\n",
    "    return mse\n",
    "\n",
    "# Predicting the training set\n",
    "y_train_pred = predict(X_train, final_weights)  \n",
    "# Predict the output on the test set \n",
    "y_test_pred = predict(X_test, final_weights)\n",
    "\n",
    "# Compute MSE on the training and test set\n",
    "mse_train = compute_mse(y_train, y_train_pred)\n",
    "mse_test = compute_mse(y_test, y_test_pred)\n",
    "\n",
    "print(\"Mean Squared Error on the Training Set:\", mse_train)\n",
    "print(\"Mean Squared Error on the Test Set:\", mse_test)"
   ]
  },
  {
   "cell_type": "markdown",
   "id": "85aa8ea9-839a-46a8-8253-b95433f66698",
   "metadata": {},
   "source": [
    "### Reverting a standardize data"
   ]
  },
  {
   "cell_type": "code",
   "execution_count": 136,
   "id": "de8ef192-7c9d-417a-b4ee-e98660b44274",
   "metadata": {},
   "outputs": [
    {
     "name": "stdout",
     "output_type": "stream",
     "text": [
      "Reverted Training Set:\n",
      "        TV  Radio  Newspaper\n",
      "9    199.9    2.5       21.2\n",
      "18    69.0   20.5       18.3\n",
      "55   199.0   49.5       60.1\n",
      "75    16.6   43.8       89.5\n",
      "150  281.0   13.9       37.0\n",
      "..     ...    ...        ...\n",
      "106   24.7   11.0       29.7\n",
      "14   204.2   32.9       46.0\n",
      "92   217.9   33.5       59.1\n",
      "179  165.6   10.0       17.6\n",
      "102  280.5   10.1       21.4\n",
      "\n",
      "[170 rows x 3 columns]\n",
      "\n",
      "Reverted Testing Set:\n",
      "        TV  Radio  Newspaper\n",
      "95   163.3   31.6       53.0\n",
      "15   195.5   47.8       53.0\n",
      "30   293.3   28.3       43.2\n",
      "158   11.4   36.9       45.2\n",
      "128  220.5   49.1        3.1\n",
      "115   74.9   35.0       52.8\n",
      "69   217.0   44.0       27.2\n",
      "170   49.8   11.6       18.4\n",
      "174  222.6    3.4       13.1\n",
      "45   175.2   22.5       31.5\n",
      "66    31.2   24.6        2.1\n",
      "182   56.0    5.7       29.7\n",
      "165  234.7    3.4       84.9\n",
      "78     5.0   29.9        9.3\n",
      "186  139.5    2.0       26.6\n",
      "177  170.3    7.8       35.2\n",
      "56     6.9   28.1       41.4\n",
      "152  197.7   23.3       14.2\n",
      "82    75.1   20.3       32.5\n",
      "68   237.6   27.5       11.0\n",
      "124  229.7   32.3       74.3\n",
      "16    67.6   36.6      114.2\n",
      "148   37.7   40.3       11.9\n",
      "93   251.2   36.5       72.4\n",
      "65    68.8    9.3        0.8\n",
      "60    53.3    1.9       21.4\n",
      "84   213.7   43.0       33.8\n",
      "67   139.3   14.5       10.1\n",
      "125   87.0   11.8       25.9\n",
      "132    8.1   27.2        2.0\n"
     ]
    }
   ],
   "source": [
    "# Calculate mean and std for the original data\n",
    "means = dataX.mean()\n",
    "stds = dataX.std()\n",
    "\n",
    "# Function to revert standardization\n",
    "def revert_standardization(X_scaled, means, stds):\n",
    "    return (X_scaled * stds.values + means.values).round(1)\n",
    "\n",
    "# Revert the train and test sets\n",
    "X_train_original = revert_standardization(X_train.drop('Bias', axis=1), means, stds)\n",
    "X_test_original = revert_standardization(X_test.drop('Bias', axis=1), means, stds)\n",
    "\n",
    "print(\"Reverted Training Set:\")\n",
    "print (X_train_original)\n",
    "\n",
    "print(\"\\nReverted Testing Set:\")\n",
    "print (X_test_original)"
   ]
  },
  {
   "cell_type": "markdown",
   "id": "0c2cc365-0884-4812-9df6-3546af202f2d",
   "metadata": {},
   "source": [
    "# SCATTERPLOT for train and test set and providing R2"
   ]
  },
  {
   "cell_type": "code",
   "execution_count": 95,
   "id": "850e008e-b38a-447d-acdc-755a71afa443",
   "metadata": {},
   "outputs": [
    {
     "data": {
      "image/png": "[encoded data removed]",
      "text/plain": [
       "<Figure size 1000x500 with 1 Axes>"
      ]
     },
     "metadata": {},
     "output_type": "display_data"
    }
   ],
   "source": [
    "# Scatter plot for Train set\n",
    "plt.figure(figsize=(10, 5))\n",
    "\n",
    "plt.subplot(1, 2, 1)\n",
    "plt.scatter(y_train, train_predictions, color='yellow', label='Train Data')\n",
    "plt.plot([min(y_train), max(y_train)], [min(train_predictions), max(train_predictions)], color='red', label='Trend Line')\n",
    "plt.title('Train Set: Actual vs Predicted')\n",
    "plt.xlabel('Actual Values (y_train)')\n",
    "plt.ylabel('Predicted Values (train_predictions)')\n",
    "plt.legend()\n",
    "\n",
    "plt.show()"
   ]
  },
  {
   "cell_type": "code",
   "execution_count": 96,
   "id": "a48a0017-4f97-46ff-a89c-3e1ba33fef0a",
   "metadata": {},
   "outputs": [
    {
     "data": {
      "image/png": "[encoded data removed]",
      "text/plain": [
       "<Figure size 640x480 with 1 Axes>"
      ]
     },
     "metadata": {},
     "output_type": "display_data"
    }
   ],
   "source": [
    "# Scatter plot for Test set\n",
    "plt.subplot(1, 2, 2)\n",
    "plt.scatter(y_test, test_predictions, color='violet', label='Test Data')\n",
    "plt.plot([min(y_test), max(y_test)], [min(test_predictions), max(test_predictions)], color='red', label='Trend Line')\n",
    "plt.title('Test Set: Actual vs Predicted')\n",
    "plt.xlabel('Actual Values (y_test)')\n",
    "plt.ylabel('Predicted Values (test_predictions)')\n",
    "plt.legend()\n",
    "\n",
    "plt.show()"
   ]
  },
  {
   "cell_type": "markdown",
   "id": "bdeecf4f-b27b-4fb0-bbff-7f5c989f3a6c",
   "metadata": {},
   "source": [
    "# Observing R2 and MSE as iterations increased to 50000"
   ]
  },
  {
   "cell_type": "code",
   "execution_count": 97,
   "id": "d5733a29-0593-43ec-93bd-0d4b1ff7a754",
   "metadata": {},
   "outputs": [
    {
     "name": "stdout",
     "output_type": "stream",
     "text": [
      "Final Weights:\n",
      " [14.02477267  3.83763432  2.79115525  0.01635503]\n",
      "Training MSE: 1.3904801309297574\n",
      "Testing MSE: 1.4270465959010532\n",
      "R² Score for Training Set: 0.8936793584593188\n",
      "R² Score for Testing Set: 0.9110275702091717\n"
     ]
    }
   ],
   "source": [
    "learning_rate = 0.01\n",
    "iterations = 50000  \n",
    "\n",
    "# Call the existing gradient descent function\n",
    "final_weights, cost_values = grad_descent(X_train, y_train, learning_rate, iterations)\n",
    "\n",
    "# Calculate R² and MSE for train and test sets using the final weights\n",
    "train_predictions = predict(X_train, final_weights)\n",
    "test_predictions = predict(X_test, final_weights)\n",
    "\n",
    "# Calculate MSE for training and testing sets\n",
    "mse_train = compute_cost(y_train, train_predictions)\n",
    "mse_test = compute_cost(y_test, test_predictions)\n",
    "\n",
    "# Calculate R² scores for training and testing sets\n",
    "r2_train = r2_score(y_train, train_predictions)\n",
    "r2_test = r2_score(y_test, test_predictions)\n",
    "\n",
    "# Print the results\n",
    "print(\"Final Weights:\\n\", final_weights)\n",
    "print(\"Training MSE:\", mse_train)\n",
    "print(\"Testing MSE:\", mse_test)\n",
    "print(f'R² Score for Training Set: {r2_train}')\n",
    "print(f'R² Score for Testing Set: {r2_test}')"
   ]
  },
  {
   "cell_type": "markdown",
   "id": "d1039b96-58fe-4882-a411-ad40206dc482",
   "metadata": {},
   "source": [
    "Plotting the result data"
   ]
  },
  {
   "cell_type": "code",
   "execution_count": 105,
   "id": "69d0eb69-f6c1-4875-80fe-4ffc2e99cc6d",
   "metadata": {},
   "outputs": [
    {
     "data": {
      "image/png": "[encoded data removed]",
      "text/plain": [
       "<Figure size 1500x600 with 1 Axes>"
      ]
     },
     "metadata": {},
     "output_type": "display_data"
    }
   ],
   "source": [
    "# Plot the cost values\n",
    "def plot_costs(costs):\n",
    "    plt.figure(figsize=(15, 6))\n",
    "    plt.plot(range(iterations), costs, label='Cost function')\n",
    "    plt.xlabel('Iterations')\n",
    "    plt.ylabel('Cost')\n",
    "    plt.title('Cost Function over Iterations')\n",
    "    plt.legend()\n",
    "    plt.show()\n",
    "\n",
    "plot_costs(cost_values)"
   ]
  },
  {
   "cell_type": "markdown",
   "id": "9b21772f-84ac-457f-9b52-9ea274773b8b",
   "metadata": {},
   "source": [
    "# Determine the optimal number of iterations and check the effect on cost and error as learning rate changes. VISUALIZE the cost function."
   ]
  },
  {
   "cell_type": "markdown",
   "id": "a77c7df4-251f-4cca-816e-75dfb1114e04",
   "metadata": {},
   "source": [
    "Determine the optimal iteration"
   ]
  },
  {
   "cell_type": "code",
   "execution_count": 68,
   "id": "8f994bef-e307-4520-ac76-c6774090321f",
   "metadata": {},
   "outputs": [
    {
     "data": {
      "image/png": "[encoded data removed]",
      "text/plain": [
       "<Figure size 1000x500 with 1 Axes>"
      ]
     },
     "metadata": {},
     "output_type": "display_data"
    }
   ],
   "source": [
    "# Determine optimal number of iterations\n",
    "max_iterations = 1000\n",
    "learning_rate = 0.01  \n",
    "_, costs_for_optimal_lr = grad_descent(X_train, y_train, learning_rate, max_iterations)\n",
    "\n",
    "# Plot the cost function to find the optimal number of iterations\n",
    "plt.figure(figsize=(10, 5))\n",
    "plt.plot(range(max_iterations), costs_for_optimal_lr, label='Learning Rate = 0.01', color='blue')\n",
    "plt.xlabel('Iterations')\n",
    "plt.ylabel('Cost')\n",
    "plt.title('Cost Function over Iterations (Learning Rate = 0.01)')\n",
    "plt.axhline(y=min(costs_for_optimal_lr), color='r', linestyle='--', label='Minimum Cost')\n",
    "plt.legend()\n",
    "plt.show()\n"
   ]
  },
  {
   "cell_type": "markdown",
   "id": "df0b7c08-ec40-4f53-9251-05d1789a27b8",
   "metadata": {},
   "source": [
    "# Check the effect on the cost and error as learning rate chanages."
   ]
  },
  {
   "cell_type": "code",
   "execution_count": 74,
   "id": "c4fa9360-ffa6-4e2b-994b-85cfe969f19a",
   "metadata": {},
   "outputs": [
    {
     "data": {
      "image/png": "[encoded data removed]",
      "text/plain": [
       "<Figure size 1200x600 with 1 Axes>"
      ]
     },
     "metadata": {},
     "output_type": "display_data"
    }
   ],
   "source": [
    "# Define different learning rates to test\n",
    "learning_rates = [0.1, 0.01, 0.001, 0.0001, 0.2]\n",
    "optimal_iterations = 400  \n",
    "costs_per_lr = {}\n",
    "\n",
    "# Calculate costs for each learning rate\n",
    "for lr in learning_rates:\n",
    "    _, costs = grad_descent(X_train, y_train, lr, optimal_iterations)\n",
    "    costs_per_lr[lr] = costs\n",
    "\n",
    "# Plot the cost function for each learning rate\n",
    "plt.figure(figsize=(12, 6))\n",
    "for lr, costs in costs_per_lr.items():\n",
    "    plt.plot(range(optimal_iterations), costs, label=f'Learning Rate = {lr}')\n",
    "plt.xlabel('Iterations')\n",
    "plt.ylabel('Cost')\n",
    "plt.title('Cost Function over Iterations for Different Learning Rates')\n",
    "plt.legend()\n",
    "plt.grid()\n",
    "plt.show()"
   ]
  },
  {
   "cell_type": "markdown",
   "id": "08dd2a92-664e-4cf3-ab51-9f49419d164c",
   "metadata": {},
   "source": [
    "# Comparing results with Ordinary Least Squares Function"
   ]
  },
  {
   "cell_type": "code",
   "execution_count": 104,
   "id": "45aff44b-9336-4689-bda5-cfd8c521012c",
   "metadata": {},
   "outputs": [
    {
     "name": "stdout",
     "output_type": "stream",
     "text": [
      "OLS Weights: [0.         3.83763432 2.79115525 0.01635503]\n",
      "OLS Intercept: 14.02477266922176\n",
      "OLS Mean Squared Error on the Training Set: 2.780960261859515\n",
      "OLS Mean Squared Error on the Test Set: 2.8540931918021184\n",
      "OLS R² Score for Training Set: 0.8936793584593188\n",
      "OLS R² Score for Testing Set: 0.9110275702091714\n",
      "\n",
      "--- Comparison of Gradient Descent and OLS Results ---\n",
      "Gradient Descent MSE (Testing): 1.4270465959010532\n",
      "OLS MSE (Testing): 2.8540931918021184\n",
      "\n",
      "Gradient Descent MSE (Training): 1.3904801309297574\n",
      "OLS MSE (Training): 2.780960261859515\n",
      "\n",
      "Gradient Descent R² Score (Training): 0.8936793584593188\n",
      "OLS R² Score (Training): 0.8936793584593188\n",
      "\n",
      "Gradient Descent R² Score (Testing): 0.9110275702091717\n",
      "OLS R² Score (Testing): 0.9110275702091714\n"
     ]
    }
   ],
   "source": [
    "# Fit a Linear Regression model using Ordinary Least Squares\n",
    "ols_model = LinearRegression()\n",
    "ols_model.fit(X_train, y_train)\n",
    "\n",
    "# Get the coefficients (weights) from the OLS model\n",
    "ols_weights = ols_model.coef_\n",
    "ols_intercept = ols_model.intercept_\n",
    "print(\"OLS Weights:\", ols_weights)\n",
    "print(\"OLS Intercept:\", ols_intercept)\n",
    "\n",
    "# Make predictions using the OLS model\n",
    "train_predictions_ols = ols_model.predict(X_train)\n",
    "test_predictions_ols = ols_model.predict(X_test)\n",
    "\n",
    "# Calculate MSE for training and testing sets using OLS predictions\n",
    "mse_train_ols = compute_mse(y_train, train_predictions_ols)\n",
    "mse_test_ols = compute_mse(y_test, test_predictions_ols)\n",
    "\n",
    "# Calculate R² scores for OLS predictions\n",
    "r2_train_ols = r2_score(y_train, train_predictions_ols)\n",
    "r2_test_ols = r2_score(y_test, test_predictions_ols)\n",
    "\n",
    "# Print the OLS results\n",
    "print(\"OLS Mean Squared Error on the Training Set:\", mse_train_ols)\n",
    "print(\"OLS Mean Squared Error on the Test Set:\", mse_test_ols)\n",
    "print(f'OLS R² Score for Training Set: {r2_train_ols}')\n",
    "print(f'OLS R² Score for Testing Set: {r2_test_ols}')\n",
    "\n",
    "# Compare OLS results with Gradient Descent results\n",
    "print(\"\\n--- Comparison of Gradient Descent and OLS Results ---\")\n",
    "print(f\"Gradient Descent MSE (Testing): {mse_test}\")\n",
    "print(f\"OLS MSE (Testing): {mse_test_ols}\")\n",
    "\n",
    "print(f\"\\nGradient Descent MSE (Training): {mse_train}\")\n",
    "print(f\"OLS MSE (Training): {mse_train_ols}\")\n",
    "\n",
    "print(f\"\\nGradient Descent R² Score (Training): {r2_train}\")\n",
    "print(f\"OLS R² Score (Training): {r2_train_ols}\")\n",
    "\n",
    "print(f\"\\nGradient Descent R² Score (Testing): {r2_test}\")\n",
    "print(f\"OLS R² Score (Testing): {r2_test_ols}\")\n"
   ]
  }
 ],
 "metadata": {
  "kernelspec": {
   "display_name": "Python 3 (ipykernel)",
   "language": "python",
   "name": "python3"
  },
  "language_info": {
   "codemirror_mode": {
    "name": "ipython",
    "version": 3
   },
   "file_extension": ".py",
   "mimetype": "text/x-python",
   "name": "python",
   "nbconvert_exporter": "python",
   "pygments_lexer": "ipython3",
   "version": "3.11.9"
  }
 },
 "nbformat": 4,
 "nbformat_minor": 5
}
