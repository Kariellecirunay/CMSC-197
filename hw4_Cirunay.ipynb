{
 "cells": [
  {
   "cell_type": "markdown",
   "id": "bab759f7-dd60-47e2-8619-556d76623432",
   "metadata": {},
   "source": [
    "#  NAIVE BAYES SPAM FILTER\n",
    "### CMSC 197 Machine Problem 3"
   ]
  },
  {
   "cell_type": "markdown",
   "id": "50382d3c-e23f-4623-9526-c72c0c09c025",
   "metadata": {},
   "source": [
    "### Karielle Faith Cirunay\n",
    "github link: https://github.com/Kariellecirunay/CMSC-197"
   ]
  },
  {
   "cell_type": "markdown",
   "id": "3d1835d7-b221-46b0-b280-6b2bac28c92f",
   "metadata": {},
   "source": [
    "# PREPROCESSING"
   ]
  },
  {
   "cell_type": "code",
   "execution_count": 96,
   "id": "94318c6b-bb56-4031-a301-798a559f2078",
   "metadata": {},
   "outputs": [],
   "source": [
    "import os\n",
    "import re\n",
    "import string\n",
    "import numpy as np\n",
    "import pandas as pd\n",
    "import matplotlib.pyplot as plt\n",
    "import nltk\n",
    "from nltk.corpus import stopwords\n",
    "from email import policy\n",
    "from email.parser import BytesParser\n",
    "from sklearn.feature_extraction.text import CountVectorizer\n",
    "from sklearn.model_selection import train_test_split\n",
    "from collections import Counter "
   ]
  },
  {
   "cell_type": "markdown",
   "id": "47d88443-c817-4dd3-8cf8-d6b40983f466",
   "metadata": {},
   "source": [
    "### file and folder path"
   ]
  },
  {
   "cell_type": "code",
   "execution_count": 97,
   "id": "2f69173f-b81b-4f16-af44-fe13eebf9bac",
   "metadata": {},
   "outputs": [],
   "source": [
    "data_path = 'MP3-Naive Bayes Spam Filter/trec06p-cs280/trec06p-cs280/data' \n",
    "label_file = 'MP3-Naive Bayes Spam Filter/trec06p-cs280/trec06p-cs280/labels.txt'  \n",
    "stopWords_file = 'MP3-Naive Bayes Spam Filter/stop_words.txt'"
   ]
  },
  {
   "cell_type": "markdown",
   "id": "0db6ff7c-4d83-41a6-b378-d9dcd70b124f",
   "metadata": {},
   "source": [
    "### Remove stopwords using stop_words.txt"
   ]
  },
  {
   "cell_type": "code",
   "execution_count": 98,
   "id": "3d33234f-6258-49f6-86ac-f6b9febba7bd",
   "metadata": {},
   "outputs": [],
   "source": [
    "stop_words_df = pd.read_csv(stopWords_file, header=None)\n",
    "stop_words = set(stop_words_df[0].tolist())"
   ]
  },
  {
   "cell_type": "markdown",
   "id": "f4976736-5878-4b7d-bcdc-3724b621a631",
   "metadata": {},
   "source": [
    "### Function to remove unnecessary and stop words"
   ]
  },
  {
   "cell_type": "code",
   "execution_count": 99,
   "id": "d42f7dfd-2371-4283-a8de-1583c38b7fdc",
   "metadata": {},
   "outputs": [],
   "source": [
    "def clean_email_body(email_body, stop_words):\n",
    "    # Remove punctuation and alphanumeric characters \n",
    "    cleaned_body = re.sub(r'[^a-zA-Z\\s]', '', email_body)  \n",
    "    # Convert to lowercase and split into words\n",
    "    words = cleaned_body.lower().split()\n",
    "    \n",
    "    # Remove stop words  \n",
    "    filtered_words = [word for word in words if word not in stop_words]\n",
    "    # Join words back into a cleaned string\n",
    "    return ' '.join(filtered_words)"
   ]
  },
  {
   "cell_type": "markdown",
   "id": "8e3b6a31-09cd-41c1-a872-7ba8f5737539",
   "metadata": {},
   "source": [
    "### Function to read and clean the emails"
   ]
  },
  {
   "cell_type": "code",
   "execution_count": 100,
   "id": "35e0062e-3cf4-4592-9d1c-1e2e27e666d0",
   "metadata": {},
   "outputs": [],
   "source": [
    "# Function to read and clean emails\n",
    "def read_and_clean_emails(data_path, stop_words):\n",
    "    cleaned_emails = []\n",
    "    error_logs = []  \n",
    "\n",
    "    if os.path.exists(data_path):\n",
    "        folders = os.listdir(data_path)\n",
    "        numeric_folders = [folder for folder in folders if folder.isdigit()]\n",
    "        sorted_folders = sorted(numeric_folders, key=int)\n",
    "\n",
    "        total_emails = 0  # Count total processed emails\n",
    "        for folder in sorted_folders:\n",
    "            folder_path = os.path.join(data_path, folder)\n",
    "            files = os.listdir(folder_path)\n",
    "            for file in files:\n",
    "                file_path = os.path.join(folder_path, file)\n",
    "                try:\n",
    "                    with open(file_path, 'rb') as f:\n",
    "                        # Parse the email\n",
    "                        email = BytesParser(policy=policy.default).parse(f)\n",
    "                        email_body = email.get_body(preferencelist=('plain')).get_content()\n",
    "                        # Clean the email body\n",
    "                        cleaned_body = clean_email_body(email_body, stop_words)\n",
    "                        cleaned_emails.append((cleaned_body,folder,file))\n",
    "                        total_emails += 1\n",
    "                except Exception as e:\n",
    "                    error_logs.append(f\"Error processing file {file_path}: {e}\")\n",
    "\n",
    "        print(f\"Total emails processed: {total_emails}\")\n",
    "\n",
    "        # Log errors if any\n",
    "        if error_logs:\n",
    "            with open(\"error_logs.txt\", \"w\") as log_file:\n",
    "                for log in error_logs:\n",
    "                    log_file.write(log + \"\\n\")\n",
    "            print(f\"Errors logged to 'error_logs.txt'\")\n",
    "    else:\n",
    "        print(f\"Directory {data_path} not found.\")\n",
    "\n",
    "    return cleaned_emails"
   ]
  },
  {
   "cell_type": "code",
   "execution_count": 101,
   "id": "44115583-03e6-463b-8d64-cec599a91e21",
   "metadata": {},
   "outputs": [
    {
     "name": "stdout",
     "output_type": "stream",
     "text": [
      "Total emails processed: 33534\n",
      "Errors logged to 'error_logs.txt'\n"
     ]
    }
   ],
   "source": [
    "# Load and clean emails\n",
    "cleaned_emails = read_and_clean_emails(data_path, stop_words)"
   ]
  },
  {
   "cell_type": "code",
   "execution_count": 102,
   "id": "157e17b1-662b-4b8f-9f23-dcf1d5c03414",
   "metadata": {},
   "outputs": [
    {
     "data": {
      "text/html": [
       "<div>\n",
       "<style scoped>\n",
       "    .dataframe tbody tr th:only-of-type {\n",
       "        vertical-align: middle;\n",
       "    }\n",
       "\n",
       "    .dataframe tbody tr th {\n",
       "        vertical-align: top;\n",
       "    }\n",
       "\n",
       "    .dataframe thead th {\n",
       "        text-align: right;\n",
       "    }\n",
       "</style>\n",
       "<table border=\"1\" class=\"dataframe\">\n",
       "  <thead>\n",
       "    <tr style=\"text-align: right;\">\n",
       "      <th></th>\n",
       "      <th>Cleaned_Email</th>\n",
       "      <th>Folder</th>\n",
       "      <th>File</th>\n",
       "    </tr>\n",
       "  </thead>\n",
       "  <tbody>\n",
       "    <tr>\n",
       "      <th>0</th>\n",
       "      <td>mailing list queried weeks ago running set arc...</td>\n",
       "      <td>000</td>\n",
       "      <td>000</td>\n",
       "    </tr>\n",
       "    <tr>\n",
       "      <th>1</th>\n",
       "      <td>luxury watches buy rolex rolex cartier bvlgari...</td>\n",
       "      <td>000</td>\n",
       "      <td>001</td>\n",
       "    </tr>\n",
       "    <tr>\n",
       "      <th>2</th>\n",
       "      <td>academic qualifications prestigious nonacc red...</td>\n",
       "      <td>000</td>\n",
       "      <td>002</td>\n",
       "    </tr>\n",
       "    <tr>\n",
       "      <th>3</th>\n",
       "      <td>greetings verify subscription planfans list ch...</td>\n",
       "      <td>000</td>\n",
       "      <td>003</td>\n",
       "    </tr>\n",
       "    <tr>\n",
       "      <th>4</th>\n",
       "      <td>chauncey conferred luscious continued tonsillitis</td>\n",
       "      <td>000</td>\n",
       "      <td>004</td>\n",
       "    </tr>\n",
       "    <tr>\n",
       "      <th>...</th>\n",
       "      <td>...</td>\n",
       "      <td>...</td>\n",
       "      <td>...</td>\n",
       "    </tr>\n",
       "    <tr>\n",
       "      <th>33529</th>\n",
       "      <td>great news expec ted infinex ventures infx pri...</td>\n",
       "      <td>126</td>\n",
       "      <td>017</td>\n",
       "    </tr>\n",
       "    <tr>\n",
       "      <th>33530</th>\n",
       "      <td>oil sector going crazy weekly gift kkpt thing ...</td>\n",
       "      <td>126</td>\n",
       "      <td>018</td>\n",
       "    </tr>\n",
       "    <tr>\n",
       "      <th>33531</th>\n",
       "      <td>httpvdtobjdocscaninfo suffering pain depressio...</td>\n",
       "      <td>126</td>\n",
       "      <td>019</td>\n",
       "    </tr>\n",
       "    <tr>\n",
       "      <th>33532</th>\n",
       "      <td>prosperous future increased money earning powe...</td>\n",
       "      <td>126</td>\n",
       "      <td>020</td>\n",
       "    </tr>\n",
       "    <tr>\n",
       "      <th>33533</th>\n",
       "      <td>moat coverall cytochemistry planeload salk</td>\n",
       "      <td>126</td>\n",
       "      <td>021</td>\n",
       "    </tr>\n",
       "  </tbody>\n",
       "</table>\n",
       "<p>33534 rows × 3 columns</p>\n",
       "</div>"
      ],
      "text/plain": [
       "                                           Cleaned_Email Folder File\n",
       "0      mailing list queried weeks ago running set arc...    000  000\n",
       "1      luxury watches buy rolex rolex cartier bvlgari...    000  001\n",
       "2      academic qualifications prestigious nonacc red...    000  002\n",
       "3      greetings verify subscription planfans list ch...    000  003\n",
       "4      chauncey conferred luscious continued tonsillitis    000  004\n",
       "...                                                  ...    ...  ...\n",
       "33529  great news expec ted infinex ventures infx pri...    126  017\n",
       "33530  oil sector going crazy weekly gift kkpt thing ...    126  018\n",
       "33531  httpvdtobjdocscaninfo suffering pain depressio...    126  019\n",
       "33532  prosperous future increased money earning powe...    126  020\n",
       "33533         moat coverall cytochemistry planeload salk    126  021\n",
       "\n",
       "[33534 rows x 3 columns]"
      ]
     },
     "execution_count": 102,
     "metadata": {},
     "output_type": "execute_result"
    }
   ],
   "source": [
    "cleaned_emails_df = pd.DataFrame(cleaned_emails, columns=['Cleaned_Email', 'Folder','File'])\n",
    "cleaned_emails_df.to_csv('cleaned_emails.csv', index=False)\n",
    "cleaned_emails_df"
   ]
  },
  {
   "cell_type": "markdown",
   "id": "f8827194-0a85-4637-b098-29ff4b7742ad",
   "metadata": {},
   "source": [
    "### Function to check the cleaned email"
   ]
  },
  {
   "cell_type": "code",
   "execution_count": 103,
   "id": "64ca3e2b-288c-4259-85f3-d780bf5879d5",
   "metadata": {},
   "outputs": [
    {
     "name": "stdout",
     "output_type": "stream",
     "text": [
      "Cleaned Email:\n",
      "luxury watches buy rolex rolex cartier bvlgari frank muller patek philippe vacheron constantin lange sohne audemars piguet jaegerlecoultre iwc officine panerai breitling omega tag heuer exapmle rolex full gold daytona men fast delivery lowest prices worldwide shipping visit shop httpvvhvjksewandeatonecom\n"
     ]
    }
   ],
   "source": [
    "# Function to read a specific email\n",
    "def read_specific_email(folder, file, data_path):\n",
    "    file_path = os.path.join(data_path, folder, file)\n",
    "    try:\n",
    "        with open(file_path, 'rb') as f:\n",
    "            email = BytesParser(policy=policy.default).parse(f)\n",
    "            email_body = email.get_body(preferencelist=('plain')).get_content()\n",
    "            return clean_email_body(email_body, stop_words)\n",
    "    except Exception as e:\n",
    "        print(f\"Error processing file {file_path}: {e}\")\n",
    "        return None\n",
    "\n",
    "# Reading a specific email \n",
    "specific_cleaned_email = read_specific_email('000', '001', data_path)\n",
    "print(f\"Cleaned Email:\\n{specific_cleaned_email}\")"
   ]
  },
  {
   "cell_type": "markdown",
   "id": "ef9a47ec-c259-4cb9-a0f5-073ae30e9961",
   "metadata": {},
   "source": [
    "### loading label file"
   ]
  },
  {
   "cell_type": "code",
   "execution_count": 104,
   "id": "eaca24c8-b9ea-4170-ba1d-bd94be245315",
   "metadata": {},
   "outputs": [],
   "source": [
    "def load_labels(label_file):\n",
    "    labels = {}\n",
    "    with open(label_file, 'r') as file:\n",
    "        for line in file:\n",
    "            parts = line.strip().split()  # Split the line by whitespace\n",
    "            if len(parts) >= 2:  # Ensure there are at least two parts\n",
    "                label = parts[0]  \n",
    "                email_id = parts[1] \n",
    "                labels[email_id] = label  # Store the label with the email ID as the key\n",
    "    return labels\n",
    "\n",
    "labels = load_labels(label_file)"
   ]
  },
  {
   "cell_type": "markdown",
   "id": "2166f1e6-0432-4003-93ac-be2123aceee7",
   "metadata": {},
   "source": [
    "### Split dataset"
   ]
  },
  {
   "cell_type": "code",
   "execution_count": 105,
   "id": "93856373-d821-472a-980b-c342efa4cc7d",
   "metadata": {},
   "outputs": [
    {
     "name": "stdout",
     "output_type": "stream",
     "text": [
      "Number of emails in training set: 21300\n",
      "Number of emails in testing set: 16522\n"
     ]
    }
   ],
   "source": [
    "# Function to split dataset into train and test based on folder numbers\n",
    "def split_dataset(data_path):\n",
    "    train_folders = set([f\"{i:03d}\" for i in range(0, 71)])  # Folders 000-070 for training\n",
    "    test_folders = set([f\"{i:03d}\" for i in range(71, 127)])  # Folders 071-127 for testing\n",
    "    \n",
    "    train_emails = []\n",
    "    test_emails = []\n",
    "\n",
    "    folders = os.listdir(data_path)\n",
    "    numeric_folders = [folder for folder in folders if folder.isdigit()]\n",
    "    sorted_folders = sorted(numeric_folders, key=int)\n",
    "    \n",
    "    for folder in sorted_folders:\n",
    "        folder_path = os.path.join(data_path, folder)\n",
    "        files = os.listdir(folder_path)\n",
    "        for file in files:\n",
    "            if folder in train_folders:\n",
    "                train_emails.append((folder, file))\n",
    "            elif folder in test_folders:\n",
    "                test_emails.append((folder, file))\n",
    "                \n",
    "    # Get the count of emails in train and test sets\n",
    "    train_email_count = len(train_emails)\n",
    "    test_email_count = len(test_emails)\n",
    "    \n",
    "    print(f\"Number of emails in training set: {train_email_count}\")\n",
    "    print(f\"Number of emails in testing set: {test_email_count}\")\n",
    "    \n",
    "    return train_emails, test_emails\n",
    "\n",
    "# Call the function to split the dataset \n",
    "train_emails, test_emails = split_dataset(data_path)"
   ]
  },
  {
   "cell_type": "markdown",
   "id": "8d7c8dc6-6a30-463a-a095-c353bd14197e",
   "metadata": {},
   "source": [
    "### function to attach the labels to the emails"
   ]
  },
  {
   "cell_type": "code",
   "execution_count": 106,
   "id": "639daba5-2628-4be7-ada1-db48717b309b",
   "metadata": {},
   "outputs": [],
   "source": [
    "def attach_labels_to_cleaned(cleaned_emails, labels):\n",
    "    labeled_cleaned_emails = []\n",
    "    for cleaned_body, folder, file in cleaned_emails:\n",
    "        # Construct the email ID to match the format in labels\n",
    "        email_id = f\"../data/{folder}/{file}\"  \n",
    "        \n",
    "        label = labels.get(email_id)  \n",
    "        if label:\n",
    "            labeled_cleaned_emails.append((cleaned_body, label))\n",
    "        else:\n",
    "            print(f\"Warning: No label found for email ID '{email_id}'\") \n",
    "    return labeled_cleaned_emails"
   ]
  },
  {
   "cell_type": "code",
   "execution_count": 108,
   "id": "aac903c3-26c2-4f82-8407-b95f7951bf71",
   "metadata": {},
   "outputs": [],
   "source": [
    "labeled_cleaned_emails = attach_labels_to_cleaned(cleaned_emails, labels)"
   ]
  },
  {
   "cell_type": "markdown",
   "id": "821c550f-a194-443d-b562-dd3d5b0dc7af",
   "metadata": {},
   "source": [
    "## Extract 10000 Common words"
   ]
  },
  {
   "cell_type": "markdown",
   "id": "947fac00-9233-442c-8222-ee3e19a2a36e",
   "metadata": {},
   "source": [
    "### function to count words"
   ]
  },
  {
   "cell_type": "code",
   "execution_count": 107,
   "id": "de60365c-d675-47b0-9f3d-75a5fbb68fe7",
   "metadata": {},
   "outputs": [],
   "source": [
    "# Count words from ham and spam training emails\n",
    "def count_words(labeled_emails):\n",
    "    ham_word_counter = Counter()\n",
    "    spam_word_counter = Counter()\n",
    "\n",
    "    for email_body, label in labeled_emails:\n",
    "        if label == 'ham':\n",
    "            \n",
    "            ham_word_counter.update(email_body.split())\n",
    "        elif label == 'spam':\n",
    "            spam_word_counter.update(email_body.split())\n",
    "\n",
    "    return ham_word_counter, spam_word_counter"
   ]
  },
  {
   "cell_type": "markdown",
   "id": "b3b421f6-1ccb-4df8-91b7-14dec423ebca",
   "metadata": {},
   "source": [
    "### function to obtain the 10000 most common words"
   ]
  },
  {
   "cell_type": "code",
   "execution_count": 109,
   "id": "8dc8b19f-abff-4834-a44d-f8b9ef5b36f7",
   "metadata": {},
   "outputs": [],
   "source": [
    "# Get the most common words, limited to 10,000\n",
    "def get_most_common_words(ham_word_counter, spam_word_counter):\n",
    "    \n",
    "    combined_counter = ham_word_counter + spam_word_counter\n",
    "    most_common_words = combined_counter.most_common(10000)\n",
    "    return most_common_words"
   ]
  },
  {
   "cell_type": "markdown",
   "id": "4e862517-e183-4235-98a0-600f591cd315",
   "metadata": {},
   "source": [
    "### ham and spam count"
   ]
  },
  {
   "cell_type": "code",
   "execution_count": 110,
   "id": "a6e4ae0d-c7e4-4dc0-9c8f-965bf7e15236",
   "metadata": {},
   "outputs": [
    {
     "name": "stdout",
     "output_type": "stream",
     "text": [
      "Ham word count: 2329875\n",
      "Spam word count: 935038\n"
     ]
    }
   ],
   "source": [
    "ham_word_counter, spam_word_counter = count_words(labeled_cleaned_emails)\n",
    "print(f\"Ham word count: {sum(ham_word_counter.values())}\")\n",
    "print(f\"Spam word count: {sum(spam_word_counter.values())}\")"
   ]
  },
  {
   "cell_type": "markdown",
   "id": "0c7ecd2b-bab0-4864-8f98-e8c601a20324",
   "metadata": {},
   "source": [
    "### obtaining most common words"
   ]
  },
  {
   "cell_type": "code",
   "execution_count": 111,
   "id": "cad2a4c2-c35d-4eaa-b423-bce59eb7b6ba",
   "metadata": {},
   "outputs": [
    {
     "name": "stdout",
     "output_type": "stream",
     "text": [
      "Most common words saved to 'most_common_words.csv'.\n"
     ]
    },
    {
     "data": {
      "text/html": [
       "<div>\n",
       "<style scoped>\n",
       "    .dataframe tbody tr th:only-of-type {\n",
       "        vertical-align: middle;\n",
       "    }\n",
       "\n",
       "    .dataframe tbody tr th {\n",
       "        vertical-align: top;\n",
       "    }\n",
       "\n",
       "    .dataframe thead th {\n",
       "        text-align: right;\n",
       "    }\n",
       "</style>\n",
       "<table border=\"1\" class=\"dataframe\">\n",
       "  <thead>\n",
       "    <tr style=\"text-align: right;\">\n",
       "      <th></th>\n",
       "      <th>Word</th>\n",
       "      <th>Frequency</th>\n",
       "    </tr>\n",
       "  </thead>\n",
       "  <tbody>\n",
       "    <tr>\n",
       "      <th>0</th>\n",
       "      <td>will</td>\n",
       "      <td>22981</td>\n",
       "    </tr>\n",
       "    <tr>\n",
       "      <th>1</th>\n",
       "      <td>received</td>\n",
       "      <td>10750</td>\n",
       "    </tr>\n",
       "    <tr>\n",
       "      <th>2</th>\n",
       "      <td>email</td>\n",
       "      <td>10030</td>\n",
       "    </tr>\n",
       "    <tr>\n",
       "      <th>3</th>\n",
       "      <td>list</td>\n",
       "      <td>9478</td>\n",
       "    </tr>\n",
       "    <tr>\n",
       "      <th>4</th>\n",
       "      <td>subject</td>\n",
       "      <td>9470</td>\n",
       "    </tr>\n",
       "    <tr>\n",
       "      <th>...</th>\n",
       "      <td>...</td>\n",
       "      <td>...</td>\n",
       "    </tr>\n",
       "    <tr>\n",
       "      <th>95</th>\n",
       "      <td>development</td>\n",
       "      <td>2935</td>\n",
       "    </tr>\n",
       "    <tr>\n",
       "      <th>96</th>\n",
       "      <td>item</td>\n",
       "      <td>2903</td>\n",
       "    </tr>\n",
       "    <tr>\n",
       "      <th>97</th>\n",
       "      <td>server</td>\n",
       "      <td>2899</td>\n",
       "    </tr>\n",
       "    <tr>\n",
       "      <th>98</th>\n",
       "      <td>unsubscribe</td>\n",
       "      <td>2870</td>\n",
       "    </tr>\n",
       "    <tr>\n",
       "      <th>99</th>\n",
       "      <td>stock</td>\n",
       "      <td>2851</td>\n",
       "    </tr>\n",
       "  </tbody>\n",
       "</table>\n",
       "<p>100 rows × 2 columns</p>\n",
       "</div>"
      ],
      "text/plain": [
       "           Word  Frequency\n",
       "0          will      22981\n",
       "1      received      10750\n",
       "2         email      10030\n",
       "3          list       9478\n",
       "4       subject       9470\n",
       "..          ...        ...\n",
       "95  development       2935\n",
       "96         item       2903\n",
       "97       server       2899\n",
       "98  unsubscribe       2870\n",
       "99        stock       2851\n",
       "\n",
       "[100 rows x 2 columns]"
      ]
     },
     "execution_count": 111,
     "metadata": {},
     "output_type": "execute_result"
    }
   ],
   "source": [
    "# Save the most common words to a CSV file\n",
    "most_common_words = get_most_common_words(ham_word_counter, spam_word_counter)\n",
    "\n",
    "common_words_df = pd.DataFrame(most_common_words, columns=['Word', 'Frequency'])\n",
    "common_words_df.to_csv('most_common_words.csv', index=False)\n",
    "print(\"Most common words saved to 'most_common_words.csv'.\")\n",
    "common_words_df.head (100)"
   ]
  },
  {
   "cell_type": "code",
   "execution_count": 112,
   "id": "db5cbd36-1bef-4aea-8d6b-9ec3cb128d1a",
   "metadata": {},
   "outputs": [
    {
     "name": "stdout",
     "output_type": "stream",
     "text": [
      "Most common words with counts saved to 'most_common_words_with_counts.csv'.\n"
     ]
    }
   ],
   "source": [
    "# Get the most common words\n",
    "def get_most_common_words_with_counts(ham_word_counter, spam_word_counter, n=10000):\n",
    "    most_common_words = []\n",
    "    \n",
    "    # Combine ham and spam counts\n",
    "    combined_counter = ham_word_counter + spam_word_counter\n",
    "    \n",
    "    for word, count in combined_counter.most_common(n):\n",
    "        ham_count = ham_word_counter[word]  # Frequency in ham\n",
    "        spam_count = spam_word_counter[word]  # Frequency in spam\n",
    "        most_common_words.append((word, count, ham_count, spam_count))\n",
    "\n",
    "    return most_common_words\n",
    "\n",
    "#get the most common words along with ham and spam counts\n",
    "most_common_words_with_counts = get_most_common_words_with_counts(ham_word_counter, spam_word_counter)\n",
    "\n",
    "# Create DataFrame with the result\n",
    "common_words_df = pd.DataFrame(most_common_words_with_counts, columns=['Word', 'Total_Frequency', 'Ham_Frequency', 'Spam_Frequency'])\n",
    "\n",
    "# Save to CSV\n",
    "common_words_df.to_csv('most_common_words_with_counts.csv', index=False)\n",
    "print(\"Most common words with counts saved to 'most_common_words_with_counts.csv'.\")\n"
   ]
  },
  {
   "cell_type": "code",
   "execution_count": 113,
   "id": "a707b140-6764-4391-9f79-302b4af4411b",
   "metadata": {},
   "outputs": [
    {
     "data": {
      "text/html": [
       "<div>\n",
       "<style scoped>\n",
       "    .dataframe tbody tr th:only-of-type {\n",
       "        vertical-align: middle;\n",
       "    }\n",
       "\n",
       "    .dataframe tbody tr th {\n",
       "        vertical-align: top;\n",
       "    }\n",
       "\n",
       "    .dataframe thead th {\n",
       "        text-align: right;\n",
       "    }\n",
       "</style>\n",
       "<table border=\"1\" class=\"dataframe\">\n",
       "  <thead>\n",
       "    <tr style=\"text-align: right;\">\n",
       "      <th></th>\n",
       "      <th>Word</th>\n",
       "      <th>Total_Frequency</th>\n",
       "      <th>Ham_Frequency</th>\n",
       "      <th>Spam_Frequency</th>\n",
       "    </tr>\n",
       "  </thead>\n",
       "  <tbody>\n",
       "    <tr>\n",
       "      <th>0</th>\n",
       "      <td>will</td>\n",
       "      <td>22981</td>\n",
       "      <td>14812</td>\n",
       "      <td>8169</td>\n",
       "    </tr>\n",
       "    <tr>\n",
       "      <th>1</th>\n",
       "      <td>received</td>\n",
       "      <td>10750</td>\n",
       "      <td>10154</td>\n",
       "      <td>596</td>\n",
       "    </tr>\n",
       "    <tr>\n",
       "      <th>2</th>\n",
       "      <td>email</td>\n",
       "      <td>10030</td>\n",
       "      <td>7782</td>\n",
       "      <td>2248</td>\n",
       "    </tr>\n",
       "    <tr>\n",
       "      <th>3</th>\n",
       "      <td>list</td>\n",
       "      <td>9478</td>\n",
       "      <td>9078</td>\n",
       "      <td>400</td>\n",
       "    </tr>\n",
       "    <tr>\n",
       "      <th>4</th>\n",
       "      <td>subject</td>\n",
       "      <td>9470</td>\n",
       "      <td>9258</td>\n",
       "      <td>212</td>\n",
       "    </tr>\n",
       "    <tr>\n",
       "      <th>...</th>\n",
       "      <td>...</td>\n",
       "      <td>...</td>\n",
       "      <td>...</td>\n",
       "      <td>...</td>\n",
       "    </tr>\n",
       "    <tr>\n",
       "      <th>145</th>\n",
       "      <td>cart</td>\n",
       "      <td>2281</td>\n",
       "      <td>19</td>\n",
       "      <td>2262</td>\n",
       "    </tr>\n",
       "    <tr>\n",
       "      <th>146</th>\n",
       "      <td>provide</td>\n",
       "      <td>2277</td>\n",
       "      <td>1446</td>\n",
       "      <td>831</td>\n",
       "    </tr>\n",
       "    <tr>\n",
       "      <th>147</th>\n",
       "      <td>handyboard</td>\n",
       "      <td>2272</td>\n",
       "      <td>2272</td>\n",
       "      <td>0</td>\n",
       "    </tr>\n",
       "    <tr>\n",
       "      <th>148</th>\n",
       "      <td>second</td>\n",
       "      <td>2271</td>\n",
       "      <td>1828</td>\n",
       "      <td>443</td>\n",
       "    </tr>\n",
       "    <tr>\n",
       "      <th>149</th>\n",
       "      <td>real</td>\n",
       "      <td>2265</td>\n",
       "      <td>1023</td>\n",
       "      <td>1242</td>\n",
       "    </tr>\n",
       "  </tbody>\n",
       "</table>\n",
       "<p>150 rows × 4 columns</p>\n",
       "</div>"
      ],
      "text/plain": [
       "           Word  Total_Frequency  Ham_Frequency  Spam_Frequency\n",
       "0          will            22981          14812            8169\n",
       "1      received            10750          10154             596\n",
       "2         email            10030           7782            2248\n",
       "3          list             9478           9078             400\n",
       "4       subject             9470           9258             212\n",
       "..          ...              ...            ...             ...\n",
       "145        cart             2281             19            2262\n",
       "146     provide             2277           1446             831\n",
       "147  handyboard             2272           2272               0\n",
       "148      second             2271           1828             443\n",
       "149        real             2265           1023            1242\n",
       "\n",
       "[150 rows x 4 columns]"
      ]
     },
     "execution_count": 113,
     "metadata": {},
     "output_type": "execute_result"
    }
   ],
   "source": [
    "common_words_df.head(150)"
   ]
  },
  {
   "cell_type": "markdown",
   "id": "359df07e-0cdd-4837-aa61-84d5ff3aebf8",
   "metadata": {},
   "source": [
    "# CREATING FEATURE MATRICES"
   ]
  },
  {
   "cell_type": "code",
   "execution_count": 114,
   "id": "5354d8d0-2450-4a40-b779-c377e7f8df02",
   "metadata": {},
   "outputs": [],
   "source": [
    "vocabulary = common_words_df['Word'].tolist()[:10000]  # Get the top 10,000 words"
   ]
  },
  {
   "cell_type": "markdown",
   "id": "9744f60b-2bdc-4dcc-8e64-d7b0f2f70add",
   "metadata": {},
   "source": [
    "### function to create the feature matrices"
   ]
  },
  {
   "cell_type": "code",
   "execution_count": 115,
   "id": "10dafa32-a7a7-4641-91a8-58a0cbe30f93",
   "metadata": {},
   "outputs": [],
   "source": [
    "# create feature matrices for ham and spam emails\n",
    "def create_feature_matrix(labeled_emails, vocabulary):\n",
    "    num_emails = len(labeled_emails)\n",
    "    feature_matrix = np.zeros((num_emails, len(vocabulary)), dtype=int)\n",
    "\n",
    "    word_index = {word: idx for idx, word in enumerate(vocabulary)}\n",
    "    \n",
    "    for i, (email_body, label) in enumerate(labeled_emails):\n",
    "        words = set(email_body.split())\n",
    "        for word in words:\n",
    "            if word in word_index:\n",
    "                feature_matrix[i, word_index[word]] = 1  # Mark presence of the word\n",
    "\n",
    "    return feature_matrix"
   ]
  },
  {
   "cell_type": "markdown",
   "id": "78373c9f-35a1-4ade-85ed-f9eebfd03c52",
   "metadata": {},
   "source": [
    "### split labeled cleaned emails"
   ]
  },
  {
   "cell_type": "code",
   "execution_count": 116,
   "id": "a5474892-fa23-4e2d-a2a2-66b97cf725a0",
   "metadata": {},
   "outputs": [
    {
     "name": "stdout",
     "output_type": "stream",
     "text": [
      "Ham Feature Matrix Shape: (12659, 10000)\n",
      "Spam Feature Matrix Shape: (20875, 10000)\n"
     ]
    }
   ],
   "source": [
    "# Split labeled cleaned emails into ham and spam based on their labels\n",
    "ham_emails = [(body, label) for body, label in labeled_cleaned_emails if label == 'ham']\n",
    "spam_emails = [(body, label) for body, label in labeled_cleaned_emails if label == 'spam']\n",
    "\n",
    "# create the feature matrices\n",
    "ham_feature_matrix = create_feature_matrix(ham_emails, vocabulary)\n",
    "spam_feature_matrix = create_feature_matrix(spam_emails, vocabulary)\n",
    "\n",
    "# Print the shape of the feature matrices\n",
    "print(f\"Ham Feature Matrix Shape: {ham_feature_matrix.shape}\")\n",
    "print(f\"Spam Feature Matrix Shape: {spam_feature_matrix.shape}\")"
   ]
  },
  {
   "cell_type": "markdown",
   "id": "efc9313b-98dc-4ce7-9bf2-a4556b26ccfc",
   "metadata": {},
   "source": [
    "# COMPUTING THE PRIORS"
   ]
  },
  {
   "cell_type": "code",
   "execution_count": 117,
   "id": "ca839e21-fa98-41c2-b9d9-79234b1f8159",
   "metadata": {},
   "outputs": [
    {
     "name": "stdout",
     "output_type": "stream",
     "text": [
      "Number of Ham Emails: 12659\n",
      "Number of Spam Emails: 20875\n",
      "Total Number of Emails: 33534\n",
      "Prior Probability P(c=ham): 0.3775\n",
      "Prior Probability P(c=spam): 0.6225\n"
     ]
    }
   ],
   "source": [
    "N_ham = ham_feature_matrix.shape[0]  # Number of ham emails\n",
    "N_spam = spam_feature_matrix.shape[0]  # Number of spam emails\n",
    "\n",
    "# Total number of documents\n",
    "N_doc = N_ham + N_spam\n",
    "\n",
    "# Calculate prior probabilities\n",
    "P_ham = N_ham / N_doc\n",
    "P_spam = N_spam / N_doc\n",
    "\n",
    "# Display the results\n",
    "print(f\"Number of Ham Emails: {N_ham}\")\n",
    "print(f\"Number of Spam Emails: {N_spam}\")\n",
    "print(f\"Total Number of Emails: {N_doc}\")\n",
    "print(f\"Prior Probability P(c=ham): {P_ham:.4f}\")\n",
    "print(f\"Prior Probability P(c=spam): {P_spam:.4f}\")"
   ]
  },
  {
   "cell_type": "markdown",
   "id": "85f2f564-cf71-4199-a99c-7f796a6e42e0",
   "metadata": {},
   "source": [
    "# CALCULATING THE LIKELIHOOD"
   ]
  },
  {
   "cell_type": "code",
   "execution_count": 118,
   "id": "303bcb79-5cb0-4984-af62-6e22072481bf",
   "metadata": {},
   "outputs": [
    {
     "name": "stdout",
     "output_type": "stream",
     "text": [
      "Word Likelihoods (P(word|spam)):\n",
      "sheets: 0.0001581946\n",
      "clasp: 0.0000045721\n",
      "misprinted: 0.0000009144\n",
      "fafcccbfaolcom: 0.0000009144\n",
      "edtgmt: 0.0000009144\n",
      "unita: 0.0000045721\n",
      "aaabpbuaaaaegakagaaacgbaaaagoaaemacayaaaagqeanoavweqabaaywftfgaawei: 0.0000009144\n",
      "compart: 0.0000009144\n",
      "tonasket: 0.0000009144\n",
      "paramountcopyrightcompliancecom: 0.0000009144\n",
      "petes: 0.0000009144\n",
      "payasyougo: 0.0000009144\n",
      "skhpxslevwffwwpqucmrkxvqpiozampfbglitbcuazkvyddydaxvmr: 0.0000009144\n",
      "xquotprixquot: 0.0000009144\n",
      "brainwash: 0.0000064009\n",
      "wner: 0.0000027433\n",
      "americabr: 0.0000009144\n",
      "todate: 0.0000009144\n",
      "httpheawwwharvardeduswolk: 0.0000009144\n",
      "mailtomariekehenselnl: 0.0000009144\n",
      "rotunda: 0.0000009144\n",
      "polanic: 0.0000009144\n",
      "aaataqmabwaaapwcaadrkaaaaeaaaalqehaaaaaakawuaaibalgdswjyaycainauqc: 0.0000009144\n",
      "repatriat: 0.0000137163\n",
      "imbc: 0.0000009144\n",
      "hipotecarios: 0.0000009144\n",
      "jleecsecuhkeduhk: 0.0000009144\n",
      "mystery: 0.0000009144\n",
      "speciation: 0.0000009144\n",
      "bqaaayaameaaahcaaamwuaahqaaaaaamfaaaobwaarqqaapgiaabbqaadaaaaaaazgua: 0.0000009144\n",
      "rscao: 0.0000009144\n",
      "lackawanna: 0.0000009144\n",
      "lqeiaagaaaambgabgdaqaqaaaajgypabyawaalgmaaasbaabaawaajqeaaaka: 0.0000009144\n",
      "coexistence: 0.0000009144\n",
      "lowmanunyusaafsip: 0.0000009144\n",
      "lgmaaaufaaajaaaagiaaaqaaaaaaaaaigaeaaaalqehaaqaaaataqyadgaaacudbqaoaoe: 0.0000009144\n",
      "permit: 0.0000155451\n",
      "steering: 0.0000009144\n",
      "xxxxxxxxxxxxxxxxxxxxxxxxxx: 0.0000036577\n",
      "fcylinder: 0.0000009144\n",
      "savepv: 0.0000027433\n",
      "overturned: 0.0000009144\n",
      "report: 0.0011018755\n",
      "tps: 0.0000009144\n",
      "gblx: 0.0000009144\n",
      "polaorid: 0.0000009144\n",
      "httpwwwuscertgovothersourcesviruseshtml: 0.0000009144\n",
      "reload: 0.0000009144\n",
      "dunno: 0.0000009144\n",
      "unreasonably: 0.0000009144\n",
      "\n",
      "Word Likelihoods (P(word|ham)):\n",
      "sheets: 0.0000245135\n",
      "clasp: 0.0000004019\n",
      "misprinted: 0.0000008037\n",
      "fafcccbfaolcom: 0.0000008037\n",
      "edtgmt: 0.0000349618\n",
      "unita: 0.0000004019\n",
      "aaabpbuaaaaegakagaaacgbaaaagoaaemacayaaaagqeanoavweqabaaywftfgaawei: 0.0000008037\n",
      "compart: 0.0000008037\n",
      "tonasket: 0.0000016074\n",
      "paramountcopyrightcompliancecom: 0.0000008037\n",
      "petes: 0.0000008037\n",
      "payasyougo: 0.0000028130\n",
      "skhpxslevwffwwpqucmrkxvqpiozampfbglitbcuazkvyddydaxvmr: 0.0000008037\n",
      "xquotprixquot: 0.0000008037\n",
      "brainwash: 0.0000004019\n",
      "wner: 0.0000004019\n",
      "americabr: 0.0000008037\n",
      "todate: 0.0000036167\n",
      "httpheawwwharvardeduswolk: 0.0000008037\n",
      "mailtomariekehenselnl: 0.0000008037\n",
      "rotunda: 0.0000024112\n",
      "polanic: 0.0000044205\n",
      "aaataqmabwaaapwcaadrkaaaaeaaaalqehaaaaaakawuaaibalgdswjyaycainauqc: 0.0000008037\n",
      "repatriat: 0.0000004019\n",
      "imbc: 0.0000020093\n",
      "hipotecarios: 0.0000008037\n",
      "jleecsecuhkeduhk: 0.0000008037\n",
      "mystery: 0.0000373730\n",
      "speciation: 0.0000016074\n",
      "bqaaayaameaaahcaaamwuaahqaaaaaamfaaaobwaarqqaapgiaabbqaadaaaaaaazgua: 0.0000008037\n",
      "rscao: 0.0000016074\n",
      "lackawanna: 0.0000008037\n",
      "lqeiaagaaaambgabgdaqaqaaaajgypabyawaalgmaaasbaabaawaajqeaaaka: 0.0000008037\n",
      "coexistence: 0.0000012056\n",
      "lowmanunyusaafsip: 0.0000012056\n",
      "lgmaaaufaaajaaaagiaaaqaaaaaaaaaigaeaaaalqehaaqaaaataqyadgaaacudbqaoaoe: 0.0000008037\n",
      "permit: 0.0000779609\n",
      "steering: 0.0000586716\n",
      "xxxxxxxxxxxxxxxxxxxxxxxxxx: 0.0000004019\n",
      "fcylinder: 0.0000020093\n",
      "savepv: 0.0000004019\n",
      "overturned: 0.0000020093\n",
      "report: 0.0003094324\n",
      "tps: 0.0000040186\n",
      "gblx: 0.0000008037\n",
      "polaorid: 0.0000008037\n",
      "httpwwwuscertgovothersourcesviruseshtml: 0.0000016074\n",
      "reload: 0.0000156726\n",
      "dunno: 0.0000144670\n",
      "unreasonably: 0.0000024112\n"
     ]
    }
   ],
   "source": [
    "# Vocabulary size: the union of all unique words in both spam and ham\n",
    "vocabulary = set(spam_word_counter.keys()).union(set(ham_word_counter.keys()))\n",
    "V = len(vocabulary)\n",
    "\n",
    "# Laplace smoothing parameter\n",
    "lambda_smoothing = 1\n",
    "\n",
    "# Total number of words in spam and ham emails\n",
    "total_spam_words = sum(spam_word_counter.values())\n",
    "total_ham_words = sum(ham_word_counter.values())\n",
    "\n",
    "# Function to compute likelihood with Laplace smoothing\n",
    "def compute_likelihood(word, word_counts, total_words, V, lambda_smoothing):\n",
    "    count = word_counts.get(word, 0)  # Get the count of the word or 0 if not found\n",
    "    return (count + lambda_smoothing) / (total_words + lambda_smoothing * V)\n",
    "\n",
    "# Compute likelihoods for all words in the vocabulary\n",
    "spam_likelihoods = {}\n",
    "ham_likelihoods = {}\n",
    "\n",
    "for word in vocabulary:\n",
    "    spam_likelihoods[word] = compute_likelihood(word, spam_word_counter, total_spam_words, V, lambda_smoothing)\n",
    "    ham_likelihoods[word] = compute_likelihood(word, ham_word_counter, total_ham_words, V, lambda_smoothing)\n",
    "\n",
    "# Display the likelihoods for each word\n",
    "print(\"Word Likelihoods (P(word|spam)):\")\n",
    "for word, likelihood in list(spam_likelihoods.items())[:50]:\n",
    "    print(f\"{word}: {likelihood:.10f}\")\n",
    "\n",
    "print(\"\\nWord Likelihoods (P(word|ham)):\")\n",
    "for word, likelihood in list(ham_likelihoods.items())[:50]:\n",
    "    print(f\"{word}: {likelihood:.10f}\")"
   ]
  },
  {
   "cell_type": "markdown",
   "id": "af85cc65-5d68-47b1-ac63-c0d9ab571c55",
   "metadata": {},
   "source": [
    "# CLASSIFYING THE EMAILS"
   ]
  },
  {
   "cell_type": "markdown",
   "id": "2350e940-9505-4ee1-b446-c4094b1f994a",
   "metadata": {},
   "source": [
    "## Function to classify emails"
   ]
  },
  {
   "cell_type": "code",
   "execution_count": 119,
   "id": "7347d356-9e7d-42e6-9e0e-7a02371be58e",
   "metadata": {},
   "outputs": [],
   "source": [
    "def classify_email(email_body, spam_likelihoods, ham_likelihoods, P_ham, P_spam):\n",
    "    words = email_body.split()\n",
    "    \n",
    "    # Calculate log probabilities\n",
    "    log_prob_ham = np.log(P_ham)\n",
    "    log_prob_spam = np.log(P_spam)\n",
    "\n",
    "    for word in words:\n",
    "        if word in spam_likelihoods:\n",
    "            log_prob_spam += np.log(spam_likelihoods[word])\n",
    "        else:\n",
    "            # If not in the vocabulary, we can ignore or assume a small likelihood\n",
    "            log_prob_spam += np.log(lambda_smoothing / (total_spam_words + lambda_smoothing * V))\n",
    "\n",
    "        if word in ham_likelihoods:\n",
    "            log_prob_ham += np.log(ham_likelihoods[word])\n",
    "        else:\n",
    "            log_prob_ham += np.log(lambda_smoothing / (total_ham_words + lambda_smoothing * V))\n",
    "\n",
    "    return log_prob_ham, log_prob_spam"
   ]
  },
  {
   "cell_type": "markdown",
   "id": "76a32ae8-8784-40e6-8537-d6f5f206dd02",
   "metadata": {},
   "source": [
    "### Classifying all the cleaned emails"
   ]
  },
  {
   "cell_type": "code",
   "execution_count": 120,
   "id": "b9ad94d3-95f2-4c10-a09c-efb1ba6cc11b",
   "metadata": {},
   "outputs": [],
   "source": [
    "# Classify all cleaned emails\n",
    "classified_emails = []\n",
    "\n",
    "for cleaned_body, label in labeled_cleaned_emails:\n",
    "    log_prob_ham, log_prob_spam = classify_email(cleaned_body, spam_likelihoods, ham_likelihoods, P_ham, P_spam)\n",
    "    \n",
    "    # Determine the classification\n",
    "    if log_prob_spam > log_prob_ham:\n",
    "        classification = 'spam'\n",
    "    else:\n",
    "        classification = 'ham'\n",
    "        \n",
    "    classified_emails.append((cleaned_body, classification))"
   ]
  },
  {
   "cell_type": "code",
   "execution_count": 121,
   "id": "6f4a9e10-2410-41b3-bcaf-37fa1b8e5a61",
   "metadata": {},
   "outputs": [
    {
     "name": "stdout",
     "output_type": "stream",
     "text": [
      "Classified emails saved to 'classified_emails.csv'.\n"
     ]
    }
   ],
   "source": [
    "classified_emails_df = pd.DataFrame(classified_emails, columns=['Cleaned_Email', 'Classification'])\n",
    "classified_emails_df.to_csv('classified_emails.csv', index=False)\n",
    "print(\"Classified emails saved to 'classified_emails.csv'.\")"
   ]
  },
  {
   "cell_type": "code",
   "execution_count": 122,
   "id": "30e3b24c-654e-448b-b2ba-01eb39862f90",
   "metadata": {},
   "outputs": [
    {
     "data": {
      "text/html": [
       "<div>\n",
       "<style scoped>\n",
       "    .dataframe tbody tr th:only-of-type {\n",
       "        vertical-align: middle;\n",
       "    }\n",
       "\n",
       "    .dataframe tbody tr th {\n",
       "        vertical-align: top;\n",
       "    }\n",
       "\n",
       "    .dataframe thead th {\n",
       "        text-align: right;\n",
       "    }\n",
       "</style>\n",
       "<table border=\"1\" class=\"dataframe\">\n",
       "  <thead>\n",
       "    <tr style=\"text-align: right;\">\n",
       "      <th></th>\n",
       "      <th>Cleaned_Email</th>\n",
       "      <th>Classification</th>\n",
       "    </tr>\n",
       "  </thead>\n",
       "  <tbody>\n",
       "    <tr>\n",
       "      <th>0</th>\n",
       "      <td>mailing list queried weeks ago running set arc...</td>\n",
       "      <td>ham</td>\n",
       "    </tr>\n",
       "    <tr>\n",
       "      <th>1</th>\n",
       "      <td>luxury watches buy rolex rolex cartier bvlgari...</td>\n",
       "      <td>spam</td>\n",
       "    </tr>\n",
       "    <tr>\n",
       "      <th>2</th>\n",
       "      <td>academic qualifications prestigious nonacc red...</td>\n",
       "      <td>spam</td>\n",
       "    </tr>\n",
       "    <tr>\n",
       "      <th>3</th>\n",
       "      <td>greetings verify subscription planfans list ch...</td>\n",
       "      <td>ham</td>\n",
       "    </tr>\n",
       "    <tr>\n",
       "      <th>4</th>\n",
       "      <td>chauncey conferred luscious continued tonsillitis</td>\n",
       "      <td>spam</td>\n",
       "    </tr>\n",
       "    <tr>\n",
       "      <th>...</th>\n",
       "      <td>...</td>\n",
       "      <td>...</td>\n",
       "    </tr>\n",
       "    <tr>\n",
       "      <th>145</th>\n",
       "      <td>websites buy medication erectile difficulties ...</td>\n",
       "      <td>spam</td>\n",
       "    </tr>\n",
       "    <tr>\n",
       "      <th>146</th>\n",
       "      <td>introduce freshest session httpqchangemeoscom ...</td>\n",
       "      <td>spam</td>\n",
       "    </tr>\n",
       "    <tr>\n",
       "      <th>147</th>\n",
       "      <td>will lend money special arrangements dozens to...</td>\n",
       "      <td>spam</td>\n",
       "    </tr>\n",
       "    <tr>\n",
       "      <th>148</th>\n",
       "      <td></td>\n",
       "      <td>spam</td>\n",
       "    </tr>\n",
       "    <tr>\n",
       "      <th>149</th>\n",
       "      <td>hightech investment review nanotechnology stoc...</td>\n",
       "      <td>spam</td>\n",
       "    </tr>\n",
       "  </tbody>\n",
       "</table>\n",
       "<p>150 rows × 2 columns</p>\n",
       "</div>"
      ],
      "text/plain": [
       "                                         Cleaned_Email Classification\n",
       "0    mailing list queried weeks ago running set arc...            ham\n",
       "1    luxury watches buy rolex rolex cartier bvlgari...           spam\n",
       "2    academic qualifications prestigious nonacc red...           spam\n",
       "3    greetings verify subscription planfans list ch...            ham\n",
       "4    chauncey conferred luscious continued tonsillitis           spam\n",
       "..                                                 ...            ...\n",
       "145  websites buy medication erectile difficulties ...           spam\n",
       "146  introduce freshest session httpqchangemeoscom ...           spam\n",
       "147  will lend money special arrangements dozens to...           spam\n",
       "148                                                              spam\n",
       "149  hightech investment review nanotechnology stoc...           spam\n",
       "\n",
       "[150 rows x 2 columns]"
      ]
     },
     "execution_count": 122,
     "metadata": {},
     "output_type": "execute_result"
    }
   ],
   "source": [
    "classified_emails_df.head(150)"
   ]
  },
  {
   "cell_type": "markdown",
   "id": "d824e744-6a04-44bd-b127-46f8d6fed937",
   "metadata": {},
   "source": [
    "# TESTING THE CLASSIFIER"
   ]
  },
  {
   "cell_type": "markdown",
   "id": "eaf5a2a5-e707-4858-9946-546b8efe004f",
   "metadata": {},
   "source": [
    "### SPAM EMAIL"
   ]
  },
  {
   "cell_type": "code",
   "execution_count": 123,
   "id": "a46ce182-f40a-464f-a16c-029f4e01380d",
   "metadata": {},
   "outputs": [
    {
     "name": "stdout",
     "output_type": "stream",
     "text": [
      "The message is classified as Spam.\n"
     ]
    }
   ],
   "source": [
    "email_example = \"\"\"\n",
    "Hello there, we are offering an exclusive discount on all products! \n",
    "Visit our website today to avail of this limited-time offer.\n",
    "\"\"\"\n",
    "\n",
    "# Clean the message \n",
    "cleaned_your_message = clean_email_body(email_example, stop_words)\n",
    "\n",
    "# Classify the cleaned message using the classify_email function\n",
    "log_prob_ham, log_prob_spam = classify_email(cleaned_your_message, spam_likelihoods, ham_likelihoods, P_ham, P_spam)\n",
    "\n",
    "# Determine which class it belongs to based on higher probability\n",
    "if log_prob_ham > log_prob_spam:\n",
    "    print(\"The message is classified as Ham.\")\n",
    "else:\n",
    "    print(\"The message is classified as Spam.\")\n"
   ]
  },
  {
   "cell_type": "markdown",
   "id": "5252f313-d8d0-4524-93de-419f9a064ca7",
   "metadata": {},
   "source": [
    "### HAM EMAIL"
   ]
  },
  {
   "cell_type": "code",
   "execution_count": 124,
   "id": "22f79471-e4f9-46d1-a54f-d12d5e340950",
   "metadata": {},
   "outputs": [
    {
     "name": "stdout",
     "output_type": "stream",
     "text": [
      "The message is classified as Ham.\n"
     ]
    }
   ],
   "source": [
    "email_example = \"\"\"\n",
    "Hi team,\n",
    "\n",
    "I hope you are doing well. Just a quick reminder that we have a meeting scheduled tomorrow at 10 AM. \n",
    "Please make sure to review the agenda beforehand, and let me know if you have any updates to share.\n",
    "\n",
    "Best regards,\n",
    "John\n",
    "\"\"\"\n",
    "\n",
    "# Clean the message \n",
    "cleaned_your_message = clean_email_body(email_example, stop_words)\n",
    "\n",
    "# Classify the cleaned message using the classify_email function\n",
    "log_prob_ham, log_prob_spam = classify_email(cleaned_your_message, spam_likelihoods, ham_likelihoods, P_ham, P_spam)\n",
    "\n",
    "# Determine which class it belongs to based on higher probability\n",
    "if log_prob_ham > log_prob_spam:\n",
    "    print(\"The message is classified as Ham.\")\n",
    "else:\n",
    "    print(\"The message is classified as Spam.\")"
   ]
  },
  {
   "cell_type": "markdown",
   "id": "7a87c950-63cb-4c29-bd8f-8557b3c2c597",
   "metadata": {},
   "source": [
    "# PERFORMANCE EVALUATION"
   ]
  },
  {
   "cell_type": "markdown",
   "id": "19f95fe1-dbc3-468d-9c82-938682db4625",
   "metadata": {},
   "source": [
    "### compute TP,TN,FP,FN"
   ]
  },
  {
   "cell_type": "code",
   "execution_count": 125,
   "id": "ff10b095-0559-478c-a6b1-caf9e87a093b",
   "metadata": {},
   "outputs": [],
   "source": [
    "# Function to calculate metrics\n",
    "def calculate_metrics(predictions):\n",
    "    TP = FP = TN = FN = 0\n",
    "    \n",
    "    # Calculate TN, FN, FP, TP\n",
    "    for actual, predicted in predictions:\n",
    "        if actual == 'spam' and predicted == 'spam':\n",
    "            TP += 1\n",
    "        elif actual == 'spam' and predicted == 'ham':\n",
    "            FN += 1\n",
    "        elif actual == 'ham' and predicted == 'spam':\n",
    "            FP += 1\n",
    "        elif actual == 'ham' and predicted == 'ham':\n",
    "            TN += 1\n",
    "\n",
    "    accuracy = (TP + TN) / (TP + TN + FP + FN)\n",
    "    precision = TP / (TP + FP) if (TP + FP) > 0 else 0  \n",
    "    recall = TP / (TP + FN) if (TP + FN) > 0 else 0      \n",
    "\n",
    "    return accuracy, precision, recall"
   ]
  },
  {
   "cell_type": "markdown",
   "id": "9d1903b7-d1f9-46ae-aef3-3a0b03005ecb",
   "metadata": {},
   "source": [
    "### computing Accuracy, Recall,Precision"
   ]
  },
  {
   "cell_type": "code",
   "execution_count": 126,
   "id": "d64e6946-dbee-4734-a70a-0118e6ba7db8",
   "metadata": {},
   "outputs": [
    {
     "name": "stdout",
     "output_type": "stream",
     "text": [
      "Accuracy: 0.9885\n",
      "Precision: 0.9924\n",
      "Recall: 0.9891\n"
     ]
    }
   ],
   "source": [
    "cleaned_predictions = []\n",
    "# Classify all cleaned emails\n",
    "for cleaned_body, actual_label in labeled_cleaned_emails:\n",
    "    log_prob_ham, log_prob_spam = classify_email(cleaned_body, spam_likelihoods, ham_likelihoods, P_ham, P_spam)\n",
    "    predicted_label = 'spam' if log_prob_spam > log_prob_ham else 'ham'\n",
    "    cleaned_predictions.append((actual_label, predicted_label))\n",
    "\n",
    "# Calculate metrics for cleaned emails\n",
    "cleaned_accuracy, cleaned_precision, cleaned_recall = calculate_metrics(cleaned_predictions)\n",
    "\n",
    "# Display the results\n",
    "print(f\"Accuracy: {cleaned_accuracy:.4f}\")\n",
    "print(f\"Precision: {cleaned_precision:.4f}\")\n",
    "print(f\"Recall: {cleaned_recall:.4f}\")"
   ]
  },
  {
   "cell_type": "markdown",
   "id": "8736ddb8-9576-4dbb-b1cc-fc807d324c10",
   "metadata": {},
   "source": [
    "# RESULTS AND DISCUSSIONS"
   ]
  },
  {
   "cell_type": "markdown",
   "id": "2ba29114-2753-4d8f-98fd-f5e8f656f24f",
   "metadata": {},
   "source": [
    "## (1) What is the effect of removing stop words in terms of precision, recall, and accuracy? Show a plot or a table of these results."
   ]
  },
  {
   "cell_type": "markdown",
   "id": "51c0f480-88b4-4c31-af9a-58c529063447",
   "metadata": {},
   "source": [
    "### Obtaining original email accuracy,precision,and recall\n",
    "Since we were able to obtain the accuracy,precision, and recall, we need to obtain those from the original emails so we can differentiate the effect of removing stop words and not."
   ]
  },
  {
   "cell_type": "code",
   "execution_count": 127,
   "id": "8c3ebc29-5c15-4a9f-882f-26739df8a0f4",
   "metadata": {},
   "outputs": [
    {
     "name": "stdout",
     "output_type": "stream",
     "text": [
      "Total emails processed: 33534\n",
      "Errors logged to 'error_logs.txt'\n"
     ]
    }
   ],
   "source": [
    "# Function to read and clean emails for original emails\n",
    "def read_emails (data_path):\n",
    "    original_emails = []  \n",
    "    error_logs = []  \n",
    "\n",
    "    if os.path.exists(data_path):\n",
    "        folders = os.listdir(data_path)\n",
    "        numeric_folders = [folder for folder in folders if folder.isdigit()]\n",
    "        sorted_folders = sorted(numeric_folders, key=int)\n",
    "\n",
    "        total_emails = 0  # Count total processed emails\n",
    "        for folder in sorted_folders:\n",
    "            folder_path = os.path.join(data_path, folder)\n",
    "            files = os.listdir(folder_path)\n",
    "            for file in files:\n",
    "                file_path = os.path.join(folder_path, file)\n",
    "                try:\n",
    "                    with open(file_path, 'rb') as f:\n",
    "                        # Parse the email\n",
    "                        email = BytesParser(policy=policy.default).parse(f)\n",
    "                        email_body = email.get_body(preferencelist=('plain')).get_content()\n",
    "                        \n",
    "                        # Store the original email body\n",
    "                        original_emails.append((email_body, folder, file))\n",
    "                        total_emails += 1\n",
    "                except Exception as e:\n",
    "                    error_logs.append(f\"Error processing file {file_path}: {e}\")\n",
    "\n",
    "        print(f\"Total emails processed: {total_emails}\")\n",
    "\n",
    "        # Log errors if any\n",
    "        if error_logs:\n",
    "            with open(\"error_logs.txt\", \"w\") as log_file:\n",
    "                for log in error_logs:\n",
    "                    log_file.write(log + \"\\n\")\n",
    "            print(f\"Errors logged to 'error_logs.txt'\")\n",
    "    else:\n",
    "        print(f\"Directory {data_path} not found.\")\n",
    "\n",
    "    return original_emails  \n",
    "\n",
    "# Load emails\n",
    "original_emails = read_emails(data_path)\n",
    "\n",
    "# Function to attach labels to original emails\n",
    "def attach_labels_to_original(original_emails, labels):\n",
    "    labeled_original_emails = []\n",
    "    for original_body, folder, file in original_emails:\n",
    "        # Construct the email ID to match the format in labels\n",
    "        email_id = f\"../data/{folder}/{file}\"  \n",
    "        \n",
    "        label = labels.get(email_id)  \n",
    "        if label:\n",
    "            labeled_original_emails.append((original_body, label))\n",
    "        else:\n",
    "            print(f\"Warning: No label found for email ID '{email_id}'\") \n",
    "    return labeled_original_emails\n",
    "\n",
    "# Attach labels to the original emails\n",
    "labeled_original_emails = attach_labels_to_original(original_emails, labels)\n"
   ]
  },
  {
   "cell_type": "code",
   "execution_count": 128,
   "id": "130f6e09-eec3-44a7-b54f-fd30fc568af9",
   "metadata": {},
   "outputs": [
    {
     "name": "stdout",
     "output_type": "stream",
     "text": [
      "Accuracy: 0.6527\n",
      "Precision: 0.6419\n",
      "Recall: 1.0000\n"
     ]
    }
   ],
   "source": [
    "original_predictions = []\n",
    "\n",
    "# Classify all original emails (with stop words)\n",
    "for original_body, folder, file in original_emails:\n",
    "    # Construct the email ID to match the format in labels\n",
    "    email_id = f\"../data/{folder}/{file}\" \n",
    "    actual_label = labels.get(email_id)  \n",
    "\n",
    "    if actual_label is not None:\n",
    "        log_prob_ham, log_prob_spam = classify_email(original_body, spam_likelihoods, ham_likelihoods, P_ham, P_spam)\n",
    "        predicted_label = 'spam' if log_prob_spam > log_prob_ham else 'ham'\n",
    "        original_predictions.append((actual_label, predicted_label))\n",
    "    else:\n",
    "        print(f\"Warning: No label found for email ID '{email_id}'\")\n",
    "\n",
    "# Calculate metrics for original emails\n",
    "original_accuracy, original_precision, original_recall = calculate_metrics(original_predictions)\n",
    "\n",
    "# Display the results\n",
    "print(f\"Accuracy: {original_accuracy:.4f}\")\n",
    "print(f\"Precision: {original_precision:.4f}\")\n",
    "print(f\"Recall: {original_recall:.4f}\")"
   ]
  },
  {
   "cell_type": "markdown",
   "id": "bd621fc9-cd76-454c-8400-8588ef23ab8e",
   "metadata": {},
   "source": [
    "### COMPARISON"
   ]
  },
  {
   "cell_type": "code",
   "execution_count": 129,
   "id": "104a57a0-4d9e-4f2f-9ce9-a4d6d21bb5fe",
   "metadata": {},
   "outputs": [
    {
     "data": {
      "text/html": [
       "<div>\n",
       "<style scoped>\n",
       "    .dataframe tbody tr th:only-of-type {\n",
       "        vertical-align: middle;\n",
       "    }\n",
       "\n",
       "    .dataframe tbody tr th {\n",
       "        vertical-align: top;\n",
       "    }\n",
       "\n",
       "    .dataframe thead th {\n",
       "        text-align: right;\n",
       "    }\n",
       "</style>\n",
       "<table border=\"1\" class=\"dataframe\">\n",
       "  <thead>\n",
       "    <tr style=\"text-align: right;\">\n",
       "      <th></th>\n",
       "      <th>Metric</th>\n",
       "      <th>Cleaned Emails</th>\n",
       "      <th>Original Emails</th>\n",
       "    </tr>\n",
       "  </thead>\n",
       "  <tbody>\n",
       "    <tr>\n",
       "      <th>0</th>\n",
       "      <td>Accuracy</td>\n",
       "      <td>0.988489</td>\n",
       "      <td>0.652681</td>\n",
       "    </tr>\n",
       "    <tr>\n",
       "      <th>1</th>\n",
       "      <td>Precision</td>\n",
       "      <td>0.992406</td>\n",
       "      <td>0.641882</td>\n",
       "    </tr>\n",
       "    <tr>\n",
       "      <th>2</th>\n",
       "      <td>Recall</td>\n",
       "      <td>0.989078</td>\n",
       "      <td>0.999952</td>\n",
       "    </tr>\n",
       "  </tbody>\n",
       "</table>\n",
       "</div>"
      ],
      "text/plain": [
       "      Metric  Cleaned Emails  Original Emails\n",
       "0   Accuracy        0.988489         0.652681\n",
       "1  Precision        0.992406         0.641882\n",
       "2     Recall        0.989078         0.999952"
      ]
     },
     "execution_count": 129,
     "metadata": {},
     "output_type": "execute_result"
    }
   ],
   "source": [
    "# Prepare results for comparison\n",
    "results = {\n",
    "    'Metric': ['Accuracy', 'Precision', 'Recall'],\n",
    "    'Cleaned Emails': [cleaned_accuracy, cleaned_precision, cleaned_recall],\n",
    "    'Original Emails': [original_accuracy, original_precision, original_recall]\n",
    "}\n",
    "\n",
    "results_df = pd.DataFrame(results)\n",
    "results_df"
   ]
  },
  {
   "cell_type": "code",
   "execution_count": 130,
   "id": "5634904e-84f3-4c17-94ac-b5857f8a7045",
   "metadata": {},
   "outputs": [
    {
     "data": {
      "image/png": "[encoded data removed]",
      "text/plain": [
       "<Figure size 1000x600 with 1 Axes>"
      ]
     },
     "metadata": {},
     "output_type": "display_data"
    }
   ],
   "source": [
    "# Plot the results\n",
    "results_df.set_index('Metric').plot(kind='bar', figsize=(10, 6))\n",
    "plt.title('Comparison of Email Classification Metrics')\n",
    "plt.ylabel('Score')\n",
    "plt.xticks(rotation=0)\n",
    "plt.ylim(0, 1) \n",
    "plt.grid(axis='y')\n",
    "plt.legend(title='Email Type')\n",
    "plt.show()"
   ]
  },
  {
   "cell_type": "markdown",
   "id": "5a84bb0c-4f0e-446d-8e10-73514da0e10a",
   "metadata": {},
   "source": [
    "### The effect of removing stop words lies in the computation of precision, recall, and accuracy. Removing stop words significantly increases the performance of the model that processes various emails. Therefore, removing them allows the model to focus on more significant terms in classifying the email to be spam or ham for better understanding and learning of the given text.\n",
    "\n",
    "### In the plot, a comparison is shown between the accuracy, precision, and recall of cleaned emails, an email removed with stop words, and original emails (uncleaned emails). We can see that the score for accuracy and precision for the cleaned emails is significantly higher compared to the original email. Meanwhile, for the recall, the original email is a little higher, but the scores are closer to each other therefore, both perform the same efficiency when it comes to recall."
   ]
  },
  {
   "cell_type": "markdown",
   "id": "a0eae024-b3eb-4a9e-891a-c4ecfe935a90",
   "metadata": {},
   "source": [
    "## (2) Experiment on the number of words used for training. Filter the dictionary to include only words occurring more than k times (1000 words, then k > 100, and k = 50 times). For example, the word “offer” appears 150 times, that means that it will be included in the dictionary."
   ]
  },
  {
   "cell_type": "code",
   "execution_count": 131,
   "id": "f0af8878-7f1d-4270-b552-f86a48611665",
   "metadata": {},
   "outputs": [
    {
     "name": "stdout",
     "output_type": "stream",
     "text": [
      "Words occurring more than 1000 times:\n",
      "          Word  Frequency\n",
      "0         will      22981\n",
      "1     received      10750\n",
      "2        email      10030\n",
      "3         list       9478\n",
      "4      subject       9470\n",
      "..         ...        ...\n",
      "505    college       1010\n",
      "506      swath       1005\n",
      "507         gt       1003\n",
      "508       move       1001\n",
      "509  announces       1001\n",
      "\n",
      "[510 rows x 2 columns]\n",
      "\n",
      "Words occurring more than 100 times:\n",
      "               Word  Frequency\n",
      "0              will      22981\n",
      "1          received      10750\n",
      "2             email      10030\n",
      "3              list       9478\n",
      "4           subject       9470\n",
      "...             ...        ...\n",
      "4866     xbeenthere        101\n",
      "4867    listarchive        101\n",
      "4868  listsubscribe        101\n",
      "4869        concall        101\n",
      "4870        beehive        101\n",
      "\n",
      "[4871 rows x 2 columns]\n",
      "\n",
      "Words occurring exactly 50 times:\n",
      "          Word  Frequency\n",
      "0    democracy         50\n",
      "1         noel         50\n",
      "2       ported         50\n",
      "3        hayes         50\n",
      "4     nicholas         50\n",
      "..         ...        ...\n",
      "144   nhhhahxa         50\n",
      "145        obb         50\n",
      "146        vod         50\n",
      "147    verifed         50\n",
      "148     syngas         50\n",
      "\n",
      "[149 rows x 2 columns]\n"
     ]
    }
   ],
   "source": [
    "# Create a vocabulary list (all words)\n",
    "vocabulary = common_words_df['Word'].tolist()\n",
    "\n",
    "# Create a dictionary from the DataFrame for frequency counts\n",
    "word_freq_dict = dict(zip(common_words_df['Word'], common_words_df['Total_Frequency']))\n",
    "\n",
    "def filter_words_by_frequency(word_freq_dict, k, condition='more'):\n",
    "    \n",
    "    if condition == 'more':\n",
    "        filtered_dict = {word: freq for word, freq in word_freq_dict.items() if freq > k}\n",
    "    elif condition == 'equal':\n",
    "        filtered_dict = {word: freq for word, freq in word_freq_dict.items() if freq == k}\n",
    "    else:\n",
    "        raise ValueError(\"Condition must be 'more' or 'equal'.\")\n",
    "    \n",
    "    # Converting the filtered dictionary to a DataFrame\n",
    "    filtered_df = pd.DataFrame(filtered_dict.items(), columns=['Word', 'Frequency'])\n",
    "    return filtered_df\n",
    "\n",
    "# Filtering for different k values\n",
    "filtered_k1000_df = filter_words_by_frequency(word_freq_dict, 1000, condition='more')\n",
    "filtered_k100_df = filter_words_by_frequency(word_freq_dict, 100, condition='more')\n",
    "filtered_k50_df = filter_words_by_frequency(word_freq_dict, 50, condition='equal')\n",
    "\n",
    "# Print the results\n",
    "print(\"Words occurring more than 1000 times:\")\n",
    "print(filtered_k1000_df)\n",
    "\n",
    "print(\"\\nWords occurring more than 100 times:\")\n",
    "print(filtered_k100_df)\n",
    "\n",
    "print(\"\\nWords occurring exactly 50 times:\")\n",
    "print(filtered_k50_df)\n"
   ]
  },
  {
   "cell_type": "markdown",
   "id": "9d964a85-d475-40ea-aad3-eb1979170db9",
   "metadata": {},
   "source": [
    "### Words occuring more than a hundred times has the most highest number of words, followed by words occuring more than a thousand, and the least number of words is for exactly 50 times."
   ]
  },
  {
   "cell_type": "markdown",
   "id": "e9534aa3-9821-446c-b14f-a4095550eb9f",
   "metadata": {},
   "source": [
    "## (3) Discuss the results of the different parameters used for Lambda smoothing. Test it on 5 varying values of the λ (e.g. λ = 2.0, 1.0, 0.5, 0.1, 0.005), Evaluate performance metrics for each."
   ]
  },
  {
   "cell_type": "code",
   "execution_count": 135,
   "id": "c02f75f9-6f75-44c2-9a09-6cd7e26e259f",
   "metadata": {},
   "outputs": [
    {
     "name": "stdout",
     "output_type": "stream",
     "text": [
      "λ = 2.0:\n",
      "Accuracy: 0.9866\n",
      "Precision: 0.9918\n",
      "Recall: 0.9867\n",
      "-------------------------------------------\n",
      "λ = 1.0:\n",
      "Accuracy: 0.9885\n",
      "Precision: 0.9924\n",
      "Recall: 0.9891\n",
      "-------------------------------------------\n",
      "λ = 0.5:\n",
      "Accuracy: 0.9904\n",
      "Precision: 0.9929\n",
      "Recall: 0.9917\n",
      "-------------------------------------------\n",
      "λ = 0.1:\n",
      "Accuracy: 0.9926\n",
      "Precision: 0.9938\n",
      "Recall: 0.9943\n",
      "-------------------------------------------\n",
      "λ = 0.005:\n",
      "Accuracy: 0.9935\n",
      "Precision: 0.9939\n",
      "Recall: 0.9956\n",
      "-------------------------------------------\n"
     ]
    }
   ],
   "source": [
    "from sklearn.metrics import accuracy_score, precision_score, recall_score\n",
    "\n",
    "# Function to compute likelihood with Laplace smoothing\n",
    "def compute_likelihood(word, word_counts, total_words, V, lambda_smoothing):\n",
    "    count = word_counts.get(word, 0)  # Get the count of the word or 0 if not found\n",
    "    return (count + lambda_smoothing) / (total_words + lambda_smoothing * V)\n",
    "\n",
    "# Function to classify email based on calculated likelihoods\n",
    "def classify_email(email_body, spam_likelihoods, ham_likelihoods, P_ham, P_spam, total_spam_words, total_ham_words, V, lambda_smoothing):\n",
    "    words = email_body.split()\n",
    "    \n",
    "    # Calculate log probabilities\n",
    "    log_prob_ham = np.log(P_ham)\n",
    "    log_prob_spam = np.log(P_spam)\n",
    "\n",
    "    for word in words:\n",
    "        if word in spam_likelihoods:\n",
    "            log_prob_spam += np.log(spam_likelihoods[word])\n",
    "        else:\n",
    "            log_prob_spam += np.log(lambda_smoothing / (total_spam_words + lambda_smoothing * V))\n",
    "\n",
    "        if word in ham_likelihoods:\n",
    "            log_prob_ham += np.log(ham_likelihoods[word])\n",
    "        else:\n",
    "            log_prob_ham += np.log(lambda_smoothing / (total_ham_words + lambda_smoothing * V))\n",
    "\n",
    "    return 'spam' if log_prob_spam > log_prob_ham else 'ham'\n",
    "\n",
    "\n",
    "# Function to evaluate for different lambda smoothing values\n",
    "def evaluate_lambda_smoothing(lambdas, labeled_cleaned_emails, spam_word_counter, ham_word_counter, P_ham, P_spam, V):\n",
    "    total_spam_words = sum(spam_word_counter.values())\n",
    "    total_ham_words = sum(ham_word_counter.values())\n",
    "\n",
    "    for lambda_smoothing in lambdas:\n",
    "        # Compute likelihoods for each word with current λ value\n",
    "        spam_likelihoods = {}\n",
    "        ham_likelihoods = {}\n",
    "        for word in vocabulary:\n",
    "            spam_likelihoods[word] = compute_likelihood(word, spam_word_counter, total_spam_words, V, lambda_smoothing)\n",
    "            ham_likelihoods[word] = compute_likelihood(word, ham_word_counter, total_ham_words, V, lambda_smoothing)\n",
    "\n",
    "        cleaned_predictions = []\n",
    "        \n",
    "        # Classify all cleaned emails\n",
    "        for cleaned_body, actual_label in labeled_cleaned_emails:\n",
    "            predicted_label = classify_email(cleaned_body, spam_likelihoods, ham_likelihoods, P_ham, P_spam, total_spam_words, total_ham_words, V, lambda_smoothing)\n",
    "            cleaned_predictions.append((actual_label, predicted_label))\n",
    "        \n",
    "        # Calculate metrics for the current λ value\n",
    "        cleaned_accuracy, cleaned_precision, cleaned_recall = calculate_metrics(cleaned_predictions)\n",
    "        \n",
    "        # Display the results for the current λ\n",
    "        print(f\"λ = {lambda_smoothing}:\")\n",
    "        print(f\"Accuracy: {cleaned_accuracy:.4f}\")\n",
    "        print(f\"Precision: {cleaned_precision:.4f}\")\n",
    "        print(f\"Recall: {cleaned_recall:.4f}\")\n",
    "        print('-------------------------------------------')\n",
    "\n",
    "# Vocabulary size\n",
    "vocabulary = set(spam_word_counter.keys()).union(set(ham_word_counter.keys()))\n",
    "V = len(vocabulary)\n",
    "\n",
    "# List of lambda smoothing values to evaluate\n",
    "lambda_values = [2.0, 1.0, 0.5, 0.1, 0.005]\n",
    "\n",
    "# Call the function to evaluate lambda smoothing values\n",
    "evaluate_lambda_smoothing(lambda_values, labeled_cleaned_emails, spam_word_counter, ham_word_counter, P_ham, P_spam, V)\n"
   ]
  },
  {
   "cell_type": "markdown",
   "id": "dc432103-da13-4f39-98be-1402b9d8f3f1",
   "metadata": {},
   "source": [
    "### We evaluate the performance metrics for different lambda values. As we can see from the result, as the lambda values become smaller, the performance metrics produces higher values. We can see that λ = 2.0 has the lowest performance metrics values, meanwhile, λ = 0.005 has the highest performance metrics. So, lambda value and performance metrics are inversely proportional to each other."
   ]
  },
  {
   "cell_type": "markdown",
   "id": "b0a783b5-c0ae-4e9b-95b5-77f2468d0736",
   "metadata": {},
   "source": [
    "## (4) What are your recommendations to further improve the model?"
   ]
  },
  {
   "cell_type": "markdown",
   "id": "b219075e-b98b-457a-b243-7cb03cb15179",
   "metadata": {},
   "source": [
    "### My recommendations to further improve the model is to have a balanced dataset between spam and ham to prevent biased towards the the class that dominates the majority."
   ]
  }
 ],
 "metadata": {
  "kernelspec": {
   "display_name": "Python 3 (ipykernel)",
   "language": "python",
   "name": "python3"
  },
  "language_info": {
   "codemirror_mode": {
    "name": "ipython",
    "version": 3
   },
   "file_extension": ".py",
   "mimetype": "text/x-python",
   "name": "python",
   "nbconvert_exporter": "python",
   "pygments_lexer": "ipython3",
   "version": "3.11.9"
  }
 },
 "nbformat": 4,
 "nbformat_minor": 5
}
